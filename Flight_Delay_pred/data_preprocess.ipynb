{
 "cells": [
  {
   "cell_type": "code",
   "execution_count": 4,
   "metadata": {},
   "outputs": [],
   "source": [
    "import pandas as pd\n",
    "import json\n",
    "import os\n",
    "import operator\n",
    "from pandas import json_normalize\n",
    "import pandasql as psql\n",
    "import numpy as np"
   ]
  },
  {
   "cell_type": "code",
   "execution_count": 98,
   "metadata": {},
   "outputs": [],
   "source": [
    "#! pip install pandasql"
   ]
  },
  {
   "cell_type": "markdown",
   "metadata": {},
   "source": [
    "# weather\n"
   ]
  },
  {
   "cell_type": "code",
   "execution_count": 5,
   "metadata": {},
   "outputs": [],
   "source": [
    "ress=[]\n",
    "dir_lis= os.listdir('/Users/shwethailango/Documents/Work/Solarillion/Flight_delay_pred/Data/weather')\n",
    "for z in dir_lis:\n",
    "    res=[]\n",
    "    aa='/Users/shwethailango/Documents/Work/Solarillion/Flight_delay_pred/Data/weather/'+z\n",
    "    file_lis= os.listdir(aa)\n",
    "\n",
    "\n",
    "    for file in file_lis:\n",
    "        \n",
    "        if (operator.contains(file, \"2016\")) | (operator.contains(file, \"2017\")):\n",
    "            \n",
    "            \n",
    "\n",
    "\n",
    "            \n",
    "            path=aa+'/'+file\n",
    "            with open(path) as f:\n",
    "                d = json.load(f)\n",
    "\n",
    "            df1 = pd.json_normalize(d['data']['weather'])\n",
    "            df3=df1[['hourly','date']]\n",
    "\n",
    "            li=[]\n",
    "            air=d['data']['request'][0]['query'][:3] #airport name with 1st 3 letters\n",
    "            for i in range(0,len(df3)):\n",
    "                k=df3.iloc[i,0] # weather details \"0\" for all 31 dates\n",
    "                k1=df3.iloc[i,1] # date \"1\" --all 31 dates\n",
    "                cols=['weatherCode' ,'pressure', 'cloudcover', 'tempF', 'WindChillF' ,'time',  'precipMM', 'DewPointF', 'humidity', 'windspeedKmph', 'visibility', 'WindGustKmph','winddirDegree']\n",
    "                len(cols)\n",
    "                df4=pd.DataFrame(k)\n",
    "                df4=df4[cols]\n",
    "                df4['date']=k1      #0-23 hrs of a day\n",
    "                df4['airport']=air    \n",
    "                li.append(df4)   #append all 31 days in a month(1 file)\n",
    "\n",
    "            r=pd.concat(li,ignore_index=True)  #23hrs * 31days\n",
    "            res.append(r)  \n",
    "\n",
    "    rr=pd.concat(res,ignore_index=True) # append 24 files(24 months)\n",
    "    ress.append(rr)                     \n",
    "    \n",
    "result_w=pd.concat(ress,ignore_index=True) # for 15 airports"
   ]
  },
  {
   "cell_type": "code",
   "execution_count": 6,
   "metadata": {},
   "outputs": [
    {
     "name": "stdout",
     "output_type": "stream",
     "text": [
      "(24, 15) (744, 15) (17544, 15) (263160, 15)\n"
     ]
    }
   ],
   "source": [
    "print(df4.shape,\n",
    "r.shape,\n",
    "rr.shape,\n",
    "result_w.shape)"
   ]
  },
  {
   "cell_type": "code",
   "execution_count": 7,
   "metadata": {},
   "outputs": [
    {
     "name": "stdout",
     "output_type": "stream",
     "text": [
      "31 24 15\n"
     ]
    }
   ],
   "source": [
    "print(len(li),\n",
    "len(res),\n",
    "len(ress))"
   ]
  },
  {
   "cell_type": "code",
   "execution_count": 9,
   "metadata": {},
   "outputs": [],
   "source": [
    "result_w=result_w[['airport','date','time','weatherCode', 'pressure', 'cloudcover', 'tempF', 'WindChillF',\n",
    "         'precipMM', 'DewPointF', 'humidity', 'windspeedKmph',\n",
    "        'visibility', 'WindGustKmph', 'winddirDegree']]\n",
    "result_w.to_csv('/Users/shwethailango/Documents/Work/Solarillion/Flight_delay_pred/Data/data_processed/weather.csv')"
   ]
  },
  {
   "cell_type": "markdown",
   "metadata": {},
   "source": [
    "# flight"
   ]
  },
  {
   "cell_type": "code",
   "execution_count": 11,
   "metadata": {},
   "outputs": [],
   "source": [
    "lis=[]\n",
    "for root, dirs, files in os.walk('/Users/shwethailango/Documents/Work/Solarillion/Flight_delay_pred/Data/flight'):\n",
    "    for i in files:\n",
    "        if i.endswith('.csv'):\n",
    "            lis.append(os.path.join(root,i))\n",
    "len(lis)      \n",
    "\n",
    "li2=[]           \n",
    "for j in lis:\n",
    "        d1=pd.read_csv(j,low_memory=False)\n",
    "        ap=['ATL','CLT','DEN','DFW','EWR','IAH','MCO','ORD','SEA','JFK','LAS','LAX','MIA','PHX','SFO']\n",
    "        d2=d1[(d1.Origin.isin(ap))] #do not filter at a time...filter origin nd then filter dest frm it!(or vic-ves)\n",
    "        d2=d2[(d2.Dest.isin(ap))]\n",
    "        col=['FlightDate','Origin','CRSDepTime', 'CRSArrTime', 'DayofMonth', 'DepDelayMinutes', 'Quarter' ,'Year','DepTime', 'DepDel15', 'OriginAirportID', 'DestAirportID', 'ArrDel15', 'ArrDelayMinutes','Month' , 'ArrTime']\n",
    "        d3=d2[col]\n",
    "        li2.append(d3)   \n",
    "\n",
    "r2=pd.concat(li2,ignore_index=True)"
   ]
  },
  {
   "cell_type": "code",
   "execution_count": 12,
   "metadata": {},
   "outputs": [],
   "source": [
    "r2.to_csv('/Users/shwethailango/Documents/Work/Solarillion/Flight_delay_pred/Data/data_processed/flight.csv')"
   ]
  },
  {
   "cell_type": "markdown",
   "metadata": {},
   "source": [
    "# merge"
   ]
  },
  {
   "cell_type": "code",
   "execution_count": 13,
   "metadata": {},
   "outputs": [],
   "source": [
    "import math\n",
    "v=0\n",
    "def ceil_(number):\n",
    "        \n",
    "        if (number % 100) < 30:\n",
    "            c=math.ceil(number-(number%100)) \n",
    "        else:\n",
    "            c=math.ceil(number/100)*100\n",
    "            \n",
    "        if(c>2300):\n",
    "            return v\n",
    "        else:\n",
    "            return c\n",
    "    "
   ]
  },
  {
   "cell_type": "code",
   "execution_count": 14,
   "metadata": {},
   "outputs": [
    {
     "name": "stdout",
     "output_type": "stream",
     "text": [
      "2300 0 100 100\n"
     ]
    }
   ],
   "source": [
    "#rounding CRSdeptime to nearest hundred (till 30), so that it can be matched with 'time' in weather data.For eg:,\n",
    "print(ceil_(2310),ceil_(2350),ceil_(30),ceil_(50))"
   ]
  },
  {
   "cell_type": "code",
   "execution_count": 15,
   "metadata": {},
   "outputs": [],
   "source": [
    "r2['CRSDepTime1']=[ceil_(i) for i in r2.CRSDepTime]\n"
   ]
  },
  {
   "cell_type": "code",
   "execution_count": 16,
   "metadata": {},
   "outputs": [],
   "source": [
    "result_w.time=result_w.time.astype(np.int64)"
   ]
  },
  {
   "cell_type": "code",
   "execution_count": 17,
   "metadata": {},
   "outputs": [],
   "source": [
    "final= pd.merge(r2,result_w, left_on = ['FlightDate', 'Origin', 'CRSDepTime1'], right_on = ['date', 'airport', 'time']) "
   ]
  },
  {
   "cell_type": "code",
   "execution_count": 18,
   "metadata": {},
   "outputs": [
    {
     "data": {
      "text/plain": [
       "(1877296, 32)"
      ]
     },
     "execution_count": 18,
     "metadata": {},
     "output_type": "execute_result"
    }
   ],
   "source": [
    "final.shape\n",
    "#final.columns"
   ]
  },
  {
   "cell_type": "markdown",
   "metadata": {},
   "source": [
    "# Grooming Data"
   ]
  },
  {
   "cell_type": "code",
   "execution_count": 19,
   "metadata": {},
   "outputs": [],
   "source": [
    "data=final.dropna()"
   ]
  },
  {
   "cell_type": "code",
   "execution_count": 22,
   "metadata": {},
   "outputs": [
    {
     "data": {
      "text/plain": [
       "(1851436, 32)"
      ]
     },
     "execution_count": 22,
     "metadata": {},
     "output_type": "execute_result"
    }
   ],
   "source": [
    "data.shape"
   ]
  },
  {
   "cell_type": "code",
   "execution_count": 24,
   "metadata": {},
   "outputs": [
    {
     "data": {
      "text/plain": [
       "Index(['FlightDate', 'Origin', 'CRSDepTime', 'CRSArrTime', 'DayofMonth',\n",
       "       'DepDelayMinutes', 'Quarter', 'Year', 'DepTime', 'DepDel15',\n",
       "       'OriginAirportID', 'DestAirportID', 'ArrDel15', 'ArrDelayMinutes',\n",
       "       'Month', 'ArrTime', 'CRSDepTime1', 'airport', 'date', 'time',\n",
       "       'weatherCode', 'pressure', 'cloudcover', 'tempF', 'WindChillF',\n",
       "       'precipMM', 'DewPointF', 'humidity', 'windspeedKmph', 'visibility',\n",
       "       'WindGustKmph', 'winddirDegree'],\n",
       "      dtype='object')"
      ]
     },
     "execution_count": 24,
     "metadata": {},
     "output_type": "execute_result"
    }
   ],
   "source": [
    "#data=data.drop(columns=['Origin','CRSDepTime1','Unnamed: 0_x','Unnamed: 0_y'] , axis=1)\n",
    "data.columns"
   ]
  },
  {
   "cell_type": "code",
   "execution_count": 25,
   "metadata": {},
   "outputs": [],
   "source": [
    "data=data[['FlightDate', 'airport','time','DayofMonth','Quarter','Month', 'Year', 'DayofMonth','OriginAirportID','CRSDepTime',\n",
    "         'DepTime','DepDelayMinutes','DepDel15','DestAirportID','CRSArrTime','ArrTime','ArrDel15', 'ArrDelayMinutes','weatherCode', 'pressure', 'cloudcover', 'tempF', 'WindChillF',\n",
    "       'precipMM', 'DewPointF', 'humidity', 'windspeedKmph', 'visibility',\n",
    "       'WindGustKmph', 'winddirDegree']]"
   ]
  },
  {
   "cell_type": "code",
   "execution_count": 27,
   "metadata": {},
   "outputs": [],
   "source": [
    "data.to_csv('/Users/shwethailango/Documents/Work/Solarillion/Flight_delay_pred/Data/data_processed/flight_delay_pred.csv')"
   ]
  },
  {
   "cell_type": "markdown",
   "metadata": {},
   "source": [
    "#                                                   -------"
   ]
  },
  {
   "cell_type": "code",
   "execution_count": 28,
   "metadata": {},
   "outputs": [
    {
     "data": {
      "text/plain": [
       "(1851436, 30)"
      ]
     },
     "execution_count": 28,
     "metadata": {},
     "output_type": "execute_result"
    }
   ],
   "source": [
    "result_w.shape #weather_data\n",
    "r2.shape       #flight_data\n",
    "data.shape     #final_data\n"
   ]
  }
 ],
 "metadata": {
  "kernelspec": {
   "display_name": "Python 3",
   "language": "python",
   "name": "python3"
  },
  "language_info": {
   "codemirror_mode": {
    "name": "ipython",
    "version": 3
   },
   "file_extension": ".py",
   "mimetype": "text/x-python",
   "name": "python",
   "nbconvert_exporter": "python",
   "pygments_lexer": "ipython3",
   "version": "3.6.10"
  }
 },
 "nbformat": 4,
 "nbformat_minor": 2
}
