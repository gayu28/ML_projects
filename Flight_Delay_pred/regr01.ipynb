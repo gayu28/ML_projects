{
 "cells": [
  {
   "cell_type": "code",
   "execution_count": 47,
   "metadata": {},
   "outputs": [],
   "source": [
    "import pandas as pd\n",
    "from sklearn.model_selection import train_test_split,StratifiedKFold,cross_val_score\n",
    "from sklearn.linear_model import LinearRegression,LogisticRegression,HuberRegressor,PassiveAggressiveRegressor,SGDClassifier\n",
    "from sklearn import metrics\n",
    "import numpy as np\n",
    "from sklearn.ensemble import ExtraTreesRegressor,RandomForestRegressor,RandomForestClassifier\n",
    "from xgboost import XGBRegressor,XGBClassifier\n",
    "from sklearn.ensemble import GradientBoostingRegressor,VotingRegressor\n",
    "from sklearn.model_selection import KFold,cross_validate\n",
    "from sklearn.tree import DecisionTreeClassifier\n",
    "import time\n",
    "import plotly.offline as py\n",
    "import plotly.graph_objs as go\n",
    "import plotly.tools as tls\n",
    "from IPython.display import Image\n",
    "import matplotlib.pyplot as plt\n",
    "from matplotlib import pyplot"
   ]
  },
  {
   "cell_type": "markdown",
   "metadata": {},
   "source": [
    "## Method-1 \n",
    "(Data directly taken from preprocessed dataset)"
   ]
  },
  {
   "cell_type": "markdown",
   "metadata": {},
   "source": [
    "### Reading Data"
   ]
  },
  {
   "cell_type": "code",
   "execution_count": 2,
   "metadata": {},
   "outputs": [],
   "source": [
    "data=pd.read_csv('/Users/shwethailango/Documents/Work/Solarillion/Flight_delay_pred/Data/data_processed/flight_delay_pred.csv')\n",
    "data2=data.drop(columns=['Unnamed: 0','DayofMonth.1'],axis=1)\n"
   ]
  },
  {
   "cell_type": "code",
   "execution_count": 3,
   "metadata": {},
   "outputs": [],
   "source": [
    "# Filtering delayed data\n",
    "df1=data2[data2.ArrDel15==1]\n"
   ]
  },
  {
   "cell_type": "code",
   "execution_count": 4,
   "metadata": {},
   "outputs": [
    {
     "data": {
      "text/plain": [
       "(388058, 29)"
      ]
     },
     "execution_count": 4,
     "metadata": {},
     "output_type": "execute_result"
    }
   ],
   "source": [
    "df1.shape"
   ]
  },
  {
   "cell_type": "markdown",
   "metadata": {},
   "source": [
    "### Assigning Dependent and Independant variables"
   ]
  },
  {
   "cell_type": "code",
   "execution_count": 66,
   "metadata": {},
   "outputs": [],
   "source": [
    "f_imp=['DepDelayMinutes', 'DepTime', 'CRSDepTime', 'time', 'DestAirportID', 'OriginAirportID','Year',\n",
    "       'weatherCode', 'pressure', 'winddirDegree', 'WindGustKmph','cloudcover','precipMM',\n",
    "       'windspeedKmph', 'WindChillF', 'DewPointF', 'humidity','tempF','WindChillF','DayofMonth','Quarter','Month']"
   ]
  },
  {
   "cell_type": "code",
   "execution_count": 39,
   "metadata": {},
   "outputs": [],
   "source": [
    "x=np.array(df1[f_imp])\n",
    "y=np.array(df1['ArrDelayMinutes'])"
   ]
  },
  {
   "cell_type": "markdown",
   "metadata": {},
   "source": [
    "### Splitting test and train datasets"
   ]
  },
  {
   "cell_type": "code",
   "execution_count": 8,
   "metadata": {},
   "outputs": [],
   "source": [
    "xtrain,xtest,ytrain,ytest=train_test_split(x,y,random_state=42,test_size=0.20)"
   ]
  },
  {
   "cell_type": "markdown",
   "metadata": {},
   "source": [
    "### Function for training Regression Models "
   ]
  },
  {
   "cell_type": "code",
   "execution_count": 84,
   "metadata": {},
   "outputs": [],
   "source": [
    "def train_model(x,y,model):\n",
    "    xtrain,xtest,ytrain,ytest=train_test_split(x,y,random_state=42,test_size=0.33)\n",
    "    model.fit(xtrain,ytrain)\n",
    "    ypred=model.predict(xtest)\n",
    "    return ypred,ytest\n",
    "    "
   ]
  },
  {
   "cell_type": "markdown",
   "metadata": {},
   "source": [
    "### 1.LinearRegression"
   ]
  },
  {
   "cell_type": "code",
   "execution_count": 20,
   "metadata": {},
   "outputs": [
    {
     "name": "stdout",
     "output_type": "stream",
     "text": [
      "Mean Abs Error:  14.646499616083775\n",
      "Mean Sqrd Erro:  400.4738842094675\n",
      "R2 score:  0.9213944337515717\n",
      "Intercept:  [136.88367938]\n",
      "Coef: \n",
      " [[ 9.18852200e-01 -8.45245644e-04 -4.45238207e-03  1.29637730e-03\n",
      "   5.90546325e-04 -1.84603591e-04  1.31044393e-02 -1.27164485e-01\n",
      "  -3.21430755e-03  3.82682133e-02  1.25081472e-02 -9.44438365e-02\n",
      "   4.30442939e-02 -2.10169214e-02  1.76951300e-01 -9.44438365e-02\n",
      "  -1.23146689e-02 -3.28572380e-01  1.05587931e-01]]\n"
     ]
    }
   ],
   "source": [
    "model=LinearRegression()\n",
    "yp1,ytest1=train_model(x,y,LinearRegression())\n",
    "print(\"Mean Abs Error: \",metrics.mean_absolute_error(ytest1, yp1))\n",
    "print(\"Mean Sqrd Erro: \",metrics.mean_squared_error(ytest1,yp1))\n",
    "print(\"R2 score: \",metrics.r2_score(ytest1,yp1))\n",
    "print(\"Intercept: \",model.intercept_)\n",
    "print(\"Coef: \\n\",model.coef_)"
   ]
  },
  {
   "cell_type": "markdown",
   "metadata": {},
   "source": [
    "### 2.ExtraTreesRegressor"
   ]
  },
  {
   "cell_type": "code",
   "execution_count": 26,
   "metadata": {},
   "outputs": [
    {
     "name": "stdout",
     "output_type": "stream",
     "text": [
      "Mean Abs Error:  12.034801108855225\n",
      "Mean Sqrd Error:  294.4026007742464\n",
      "R2 score:  0.942214251537148\n"
     ]
    }
   ],
   "source": [
    "yp2,ytest2=train_model(x,y,ExtraTreesRegressor())\n",
    "print(\"Mean Abs Error: \",metrics.mean_absolute_error(ytest2, yp2))\n",
    "print(\"Mean Sqrd Error: \",metrics.mean_squared_error(ytest2,yp2))\n",
    "print(\"R2 score: \",metrics.r2_score(ytest2,yp2))"
   ]
  },
  {
   "cell_type": "markdown",
   "metadata": {},
   "source": [
    "### 3.GradientBoostingRegressor"
   ]
  },
  {
   "cell_type": "code",
   "execution_count": 43,
   "metadata": {},
   "outputs": [
    {
     "name": "stderr",
     "output_type": "stream",
     "text": [
      "/Users/shwethailango/anaconda/lib/python3.6/site-packages/sklearn/utils/validation.py:73: DataConversionWarning: A column-vector y was passed when a 1d array was expected. Please change the shape of y to (n_samples, ), for example using ravel().\n",
      "  return f(**kwargs)\n"
     ]
    },
    {
     "name": "stdout",
     "output_type": "stream",
     "text": [
      "Mean Abs Error:  11.763556128194695\n",
      "Mean Sqrd Error:  292.33729697118525\n",
      "R2 score:  0.9426196322156787\n"
     ]
    }
   ],
   "source": [
    "yp4,ytest4=train_model(x,y,GradientBoostingRegressor())\n",
    "print(\"Mean Abs Error: \",metrics.mean_absolute_error(ytest4, yp4))\n",
    "print(\"Mean Sqrd Error: \",metrics.mean_squared_error(ytest4,yp4))\n",
    "print(\"R2 score: \",metrics.r2_score(ytest4,yp4))"
   ]
  },
  {
   "cell_type": "markdown",
   "metadata": {},
   "source": [
    "### 4.RandomForestRegressor"
   ]
  },
  {
   "cell_type": "code",
   "execution_count": 34,
   "metadata": {},
   "outputs": [
    {
     "name": "stdout",
     "output_type": "stream",
     "text": [
      "Mean Abs Error:  11.908424364881046\n",
      "Mean Sqrd Error:  288.7709727335843\n",
      "R2 score:  0.9433196352550166\n"
     ]
    }
   ],
   "source": [
    "yp3,ytest3=train_model(x,y,RandomForestRegressor())\n",
    "print(\"Mean Abs Error: \",metrics.mean_absolute_error(ytest3, yp3))\n",
    "print(\"Mean Sqrd Error: \",metrics.mean_squared_error(ytest3,yp3))\n",
    "print(\"R2 score: \",metrics.r2_score(ytest3,yp3))"
   ]
  },
  {
   "cell_type": "markdown",
   "metadata": {},
   "source": [
    "### -------"
   ]
  },
  {
   "cell_type": "markdown",
   "metadata": {},
   "source": [
    "### Method-2 \n",
    "(Data taken from Classifier Model (classification.ipynb))"
   ]
  },
  {
   "cell_type": "markdown",
   "metadata": {},
   "source": [
    "#### Reading Data and modelling with best classifier"
   ]
  },
  {
   "cell_type": "code",
   "execution_count": 116,
   "metadata": {},
   "outputs": [],
   "source": [
    "df2=data.drop(columns=['FlightDate', 'airport','Unnamed: 0','DayofMonth.1'],axis=1)"
   ]
  },
  {
   "cell_type": "code",
   "execution_count": 118,
   "metadata": {},
   "outputs": [
    {
     "data": {
      "text/plain": [
       "(1851436, 27)"
      ]
     },
     "execution_count": 118,
     "metadata": {},
     "output_type": "execute_result"
    }
   ],
   "source": [
    "df2.shape"
   ]
  },
  {
   "cell_type": "markdown",
   "metadata": {},
   "source": [
    "Splitting test and train sets"
   ]
  },
  {
   "cell_type": "code",
   "execution_count": 119,
   "metadata": {},
   "outputs": [],
   "source": [
    "x_=df2\n",
    "y_=df2['ArrDel15']"
   ]
  },
  {
   "cell_type": "code",
   "execution_count": 120,
   "metadata": {},
   "outputs": [],
   "source": [
    "xtrain,xtest,ytrain,ytest=train_test_split(x_,y_,random_state=42,test_size=0.20)"
   ]
  },
  {
   "cell_type": "markdown",
   "metadata": {},
   "source": [
    "Extracting test datasets into a new dataframe-df01"
   ]
  },
  {
   "cell_type": "code",
   "execution_count": 123,
   "metadata": {},
   "outputs": [],
   "source": [
    "df01=pd.DataFrame(xtest)"
   ]
  },
  {
   "cell_type": "code",
   "execution_count": 144,
   "metadata": {},
   "outputs": [
    {
     "data": {
      "text/html": [
       "<div>\n",
       "<style scoped>\n",
       "    .dataframe tbody tr th:only-of-type {\n",
       "        vertical-align: middle;\n",
       "    }\n",
       "\n",
       "    .dataframe tbody tr th {\n",
       "        vertical-align: top;\n",
       "    }\n",
       "\n",
       "    .dataframe thead th {\n",
       "        text-align: right;\n",
       "    }\n",
       "</style>\n",
       "<table border=\"1\" class=\"dataframe\">\n",
       "  <thead>\n",
       "    <tr style=\"text-align: right;\">\n",
       "      <th></th>\n",
       "      <th>time</th>\n",
       "      <th>DayofMonth</th>\n",
       "      <th>Quarter</th>\n",
       "      <th>Month</th>\n",
       "      <th>Year</th>\n",
       "      <th>OriginAirportID</th>\n",
       "      <th>CRSDepTime</th>\n",
       "      <th>DepTime</th>\n",
       "      <th>DepDelayMinutes</th>\n",
       "      <th>DepDel15</th>\n",
       "      <th>...</th>\n",
       "      <th>tempF</th>\n",
       "      <th>WindChillF</th>\n",
       "      <th>precipMM</th>\n",
       "      <th>DewPointF</th>\n",
       "      <th>humidity</th>\n",
       "      <th>windspeedKmph</th>\n",
       "      <th>visibility</th>\n",
       "      <th>WindGustKmph</th>\n",
       "      <th>winddirDegree</th>\n",
       "      <th>delay01</th>\n",
       "    </tr>\n",
       "  </thead>\n",
       "  <tbody>\n",
       "    <tr>\n",
       "      <th>1778209</th>\n",
       "      <td>2000</td>\n",
       "      <td>6</td>\n",
       "      <td>2</td>\n",
       "      <td>6</td>\n",
       "      <td>2016</td>\n",
       "      <td>11618</td>\n",
       "      <td>1935</td>\n",
       "      <td>1929.0</td>\n",
       "      <td>0.0</td>\n",
       "      <td>0.0</td>\n",
       "      <td>...</td>\n",
       "      <td>81</td>\n",
       "      <td>80</td>\n",
       "      <td>0.0</td>\n",
       "      <td>59</td>\n",
       "      <td>49</td>\n",
       "      <td>15</td>\n",
       "      <td>10</td>\n",
       "      <td>22</td>\n",
       "      <td>218</td>\n",
       "      <td>0.0</td>\n",
       "    </tr>\n",
       "    <tr>\n",
       "      <th>737512</th>\n",
       "      <td>1400</td>\n",
       "      <td>10</td>\n",
       "      <td>2</td>\n",
       "      <td>4</td>\n",
       "      <td>2017</td>\n",
       "      <td>12892</td>\n",
       "      <td>1345</td>\n",
       "      <td>1339.0</td>\n",
       "      <td>0.0</td>\n",
       "      <td>0.0</td>\n",
       "      <td>...</td>\n",
       "      <td>64</td>\n",
       "      <td>66</td>\n",
       "      <td>0.0</td>\n",
       "      <td>46</td>\n",
       "      <td>49</td>\n",
       "      <td>18</td>\n",
       "      <td>10</td>\n",
       "      <td>20</td>\n",
       "      <td>220</td>\n",
       "      <td>0.0</td>\n",
       "    </tr>\n",
       "    <tr>\n",
       "      <th>36012</th>\n",
       "      <td>1700</td>\n",
       "      <td>20</td>\n",
       "      <td>4</td>\n",
       "      <td>12</td>\n",
       "      <td>2017</td>\n",
       "      <td>13930</td>\n",
       "      <td>1715</td>\n",
       "      <td>1715.0</td>\n",
       "      <td>0.0</td>\n",
       "      <td>0.0</td>\n",
       "      <td>...</td>\n",
       "      <td>30</td>\n",
       "      <td>24</td>\n",
       "      <td>0.0</td>\n",
       "      <td>22</td>\n",
       "      <td>70</td>\n",
       "      <td>14</td>\n",
       "      <td>10</td>\n",
       "      <td>15</td>\n",
       "      <td>54</td>\n",
       "      <td>0.0</td>\n",
       "    </tr>\n",
       "    <tr>\n",
       "      <th>1079740</th>\n",
       "      <td>1100</td>\n",
       "      <td>31</td>\n",
       "      <td>1</td>\n",
       "      <td>3</td>\n",
       "      <td>2016</td>\n",
       "      <td>11292</td>\n",
       "      <td>1105</td>\n",
       "      <td>1143.0</td>\n",
       "      <td>38.0</td>\n",
       "      <td>1.0</td>\n",
       "      <td>...</td>\n",
       "      <td>37</td>\n",
       "      <td>29</td>\n",
       "      <td>1.1</td>\n",
       "      <td>31</td>\n",
       "      <td>79</td>\n",
       "      <td>21</td>\n",
       "      <td>7</td>\n",
       "      <td>25</td>\n",
       "      <td>110</td>\n",
       "      <td>1.0</td>\n",
       "    </tr>\n",
       "    <tr>\n",
       "      <th>1093872</th>\n",
       "      <td>800</td>\n",
       "      <td>20</td>\n",
       "      <td>1</td>\n",
       "      <td>3</td>\n",
       "      <td>2016</td>\n",
       "      <td>14107</td>\n",
       "      <td>810</td>\n",
       "      <td>844.0</td>\n",
       "      <td>34.0</td>\n",
       "      <td>1.0</td>\n",
       "      <td>...</td>\n",
       "      <td>66</td>\n",
       "      <td>67</td>\n",
       "      <td>0.0</td>\n",
       "      <td>29</td>\n",
       "      <td>31</td>\n",
       "      <td>7</td>\n",
       "      <td>10</td>\n",
       "      <td>12</td>\n",
       "      <td>71</td>\n",
       "      <td>1.0</td>\n",
       "    </tr>\n",
       "  </tbody>\n",
       "</table>\n",
       "<p>5 rows × 28 columns</p>\n",
       "</div>"
      ],
      "text/plain": [
       "         time  DayofMonth  Quarter  Month  Year  OriginAirportID  CRSDepTime  \\\n",
       "1778209  2000           6        2      6  2016            11618        1935   \n",
       "737512   1400          10        2      4  2017            12892        1345   \n",
       "36012    1700          20        4     12  2017            13930        1715   \n",
       "1079740  1100          31        1      3  2016            11292        1105   \n",
       "1093872   800          20        1      3  2016            14107         810   \n",
       "\n",
       "         DepTime  DepDelayMinutes  DepDel15  ...  tempF  WindChillF  precipMM  \\\n",
       "1778209   1929.0              0.0       0.0  ...     81          80       0.0   \n",
       "737512    1339.0              0.0       0.0  ...     64          66       0.0   \n",
       "36012     1715.0              0.0       0.0  ...     30          24       0.0   \n",
       "1079740   1143.0             38.0       1.0  ...     37          29       1.1   \n",
       "1093872    844.0             34.0       1.0  ...     66          67       0.0   \n",
       "\n",
       "         DewPointF  humidity  windspeedKmph  visibility  WindGustKmph  \\\n",
       "1778209         59        49             15          10            22   \n",
       "737512          46        49             18          10            20   \n",
       "36012           22        70             14          10            15   \n",
       "1079740         31        79             21           7            25   \n",
       "1093872         29        31              7          10            12   \n",
       "\n",
       "         winddirDegree  delay01  \n",
       "1778209            218      0.0  \n",
       "737512             220      0.0  \n",
       "36012               54      0.0  \n",
       "1079740            110      1.0  \n",
       "1093872             71      1.0  \n",
       "\n",
       "[5 rows x 28 columns]"
      ]
     },
     "execution_count": 144,
     "metadata": {},
     "output_type": "execute_result"
    }
   ],
   "source": [
    "df01.head()"
   ]
  },
  {
   "cell_type": "code",
   "execution_count": null,
   "metadata": {},
   "outputs": [],
   "source": [
    "fimp=['DepDelayMinutes', 'DepTime', 'CRSDepTime', 'time', 'DestAirportID', 'OriginAirportID','DayofMonth','Quarter','Month'\n",
    "       ,'weatherCode', 'pressure', 'winddirDegree', 'WindGustKmph',\n",
    "       'windspeedKmph', 'WindChillF', 'DewPointF', 'humidity','tempF']"
   ]
  },
  {
   "cell_type": "markdown",
   "metadata": {},
   "source": [
    "Dependant and independant variable(only selected features(fimp) are used taken) "
   ]
  },
  {
   "cell_type": "code",
   "execution_count": 124,
   "metadata": {},
   "outputs": [],
   "source": [
    "xtrain1,xtest1=xtrain[fimp],xtest[fimp]"
   ]
  },
  {
   "cell_type": "markdown",
   "metadata": {},
   "source": [
    "#### RandomForest-SMOTETomek(choosing best classifier)"
   ]
  },
  {
   "cell_type": "code",
   "execution_count": 7,
   "metadata": {},
   "outputs": [],
   "source": [
    "from imblearn.combine import SMOTETomek\n",
    "smk = SMOTETomek(random_state=42)\n",
    "x_os,y_os=smk.fit_sample(xtrain1,ytrain1)"
   ]
  },
  {
   "cell_type": "code",
   "execution_count": 8,
   "metadata": {},
   "outputs": [],
   "source": [
    "rfc=RandomForestClassifier()\n",
    "rfc.fit(x_os,y_os)\n",
    "ypred5=rfc.predict(xtest1)"
   ]
  },
  {
   "cell_type": "code",
   "execution_count": 152,
   "metadata": {},
   "outputs": [
    {
     "name": "stdout",
     "output_type": "stream",
     "text": [
      "Confusion matrix\n",
      "[[282548  10074]\n",
      " [ 21219  56447]]\n",
      "              precision    recall  f1-score   support\n",
      "\n",
      "         0.0       0.93      0.97      0.95    292622\n",
      "         1.0       0.85      0.73      0.78     77666\n",
      "\n",
      "    accuracy                           0.92    370288\n",
      "   macro avg       0.89      0.85      0.87    370288\n",
      "weighted avg       0.91      0.92      0.91    370288\n",
      "\n"
     ]
    }
   ],
   "source": [
    "print(\"Confusion matrix\")\n",
    "print(metrics.confusion_matrix(ytest, ypred5))\n",
    "print(metrics.classification_report(ytest, ypred5))"
   ]
  },
  {
   "cell_type": "markdown",
   "metadata": {},
   "source": [
    "\n",
    "Assigning predicted value(delay or not) to the dataset as new column"
   ]
  },
  {
   "cell_type": "code",
   "execution_count": 127,
   "metadata": {},
   "outputs": [],
   "source": [
    "df01['delay01']=rfc.predict(xtest1)"
   ]
  },
  {
   "cell_type": "code",
   "execution_count": 128,
   "metadata": {},
   "outputs": [
    {
     "data": {
      "text/plain": [
       "(370288, 28)"
      ]
     },
     "execution_count": 128,
     "metadata": {},
     "output_type": "execute_result"
    }
   ],
   "source": [
    "df01.shape"
   ]
  },
  {
   "cell_type": "markdown",
   "metadata": {},
   "source": [
    "Extracting only delayed data (delay=1) to predict the Arrival delay period "
   ]
  },
  {
   "cell_type": "code",
   "execution_count": 129,
   "metadata": {},
   "outputs": [],
   "source": [
    "df02=df01[df01.delay01==1]"
   ]
  },
  {
   "cell_type": "code",
   "execution_count": 130,
   "metadata": {},
   "outputs": [
    {
     "data": {
      "text/plain": [
       "(66521, 28)"
      ]
     },
     "execution_count": 130,
     "metadata": {},
     "output_type": "execute_result"
    }
   ],
   "source": [
    "df02.shape"
   ]
  },
  {
   "cell_type": "code",
   "execution_count": 131,
   "metadata": {},
   "outputs": [
    {
     "data": {
      "text/plain": [
       "Index(['time', 'DayofMonth', 'Quarter', 'Month', 'Year', 'OriginAirportID',\n",
       "       'CRSDepTime', 'DepTime', 'DepDelayMinutes', 'DepDel15', 'DestAirportID',\n",
       "       'CRSArrTime', 'ArrTime', 'ArrDel15', 'ArrDelayMinutes', 'weatherCode',\n",
       "       'pressure', 'cloudcover', 'tempF', 'WindChillF', 'precipMM',\n",
       "       'DewPointF', 'humidity', 'windspeedKmph', 'visibility', 'WindGustKmph',\n",
       "       'winddirDegree', 'delay01'],\n",
       "      dtype='object')"
      ]
     },
     "execution_count": 131,
     "metadata": {},
     "output_type": "execute_result"
    }
   ],
   "source": [
    "df02.columns"
   ]
  },
  {
   "cell_type": "code",
   "execution_count": 133,
   "metadata": {},
   "outputs": [],
   "source": [
    "df02.to_csv('/Users/shwethailango/Documents/Work/Solarillion/Flight_delay_pred/Data/Flight_Delay_pred/reg/filtered02.csv')"
   ]
  },
  {
   "cell_type": "markdown",
   "metadata": {},
   "source": [
    "####  Assigning target variable and Splitting test and train datasets"
   ]
  },
  {
   "cell_type": "code",
   "execution_count": 134,
   "metadata": {},
   "outputs": [],
   "source": [
    "x1=np.array(df02[f_imp])\n",
    "y1=np.array(df02['ArrDelayMinutes'])"
   ]
  },
  {
   "cell_type": "code",
   "execution_count": 135,
   "metadata": {},
   "outputs": [],
   "source": [
    "x1_train,x1_test,y1_train,y1_test=train_test_split(x1,y1,random_state=42,test_size=0.20)"
   ]
  },
  {
   "cell_type": "code",
   "execution_count": 136,
   "metadata": {},
   "outputs": [
    {
     "data": {
      "text/plain": [
       "(53216, 18)"
      ]
     },
     "execution_count": 136,
     "metadata": {},
     "output_type": "execute_result"
    }
   ],
   "source": [
    "x1_train.shape"
   ]
  },
  {
   "cell_type": "code",
   "execution_count": null,
   "metadata": {},
   "outputs": [],
   "source": [
    "#df3.to_csv('/Users/shwethailango/Documents/Work/Solarillion/Flight_delay_pred/Data/Flight_Delay_pred/reg/filtered.csv')"
   ]
  },
  {
   "cell_type": "markdown",
   "metadata": {},
   "source": [
    "###  Training model, prediction and cross-validation"
   ]
  },
  {
   "cell_type": "markdown",
   "metadata": {},
   "source": [
    "##### List of Regressors \n",
    "(new models can be included)\n"
   ]
  },
  {
   "cell_type": "code",
   "execution_count": 221,
   "metadata": {},
   "outputs": [],
   "source": [
    "def regressors():\n",
    "    models=[]\n",
    "    models.append(('LR'   , LinearRegression()))\n",
    "    models.append(('ETR'  , ExtraTreesRegressor()))\n",
    "    models.append(('GBR'  , GradientBoostingRegressor()))\n",
    "    models.append(('RFR' , RandomForestRegressor()))\n",
    "    return models"
   ]
  },
  {
   "cell_type": "markdown",
   "metadata": {},
   "source": [
    "##### Cross_val\n",
    "(Modeling and predicting with same set of data may not be a good measure for performance metrics, so cross validation is done to check whether accuracy is convinving or not )\n",
    "Here it is done using kfold\n"
   ]
  },
  {
   "cell_type": "code",
   "execution_count": 220,
   "metadata": {},
   "outputs": [],
   "source": [
    "SEED = 7\n",
    "np.random.seed(SEED)\n",
    "\n",
    "def cross_val1(x_train, y_train,models):\n",
    "    # Test options and evaluation metric\n",
    "    num_folds = 10\n",
    "    scoring = ['neg_root_mean_squared_error','neg_mean_absolute_error','r2']\n",
    "\n",
    "    results = []\n",
    "    regs = []\n",
    "    for i,j in models:\n",
    "        kfold = StratifiedKFold(n_splits=num_folds, random_state=SEED)\n",
    "        cv_results = cross_validate(j, x_train, y_train, cv=kfold, scoring=scoring)\n",
    "        results.append(cv_results['test_r2'])\n",
    "        regs.append(i)\n",
    "        msg = \"%s->\\n RMSE: %f , MAE: %f \" % (i, abs(cv_results['test_neg_root_mean_squared_error'].mean()),\n",
    "                                          abs(cv_results['test_neg_mean_absolute_error'].mean()))\n",
    "        print(msg)\n",
    "    \n",
    "        \n",
    "    return regs,results"
   ]
  },
  {
   "cell_type": "markdown",
   "metadata": {},
   "source": [
    "##### Visualization with box plot\n",
    "(Box plot is used to visualize the distribution of values(cv_results) of \"cross validated scores\".<br> \n",
    " It gives 5 number summary: minimum,25th percentile,median,75th percentile,maximum)"
   ]
  },
  {
   "cell_type": "code",
   "execution_count": 235,
   "metadata": {},
   "outputs": [],
   "source": [
    "class PlotBoxR(object):\n",
    "    \n",
    "    \n",
    "    def __Trace(self,nameOfFeature,value): \n",
    "    \n",
    "        trace = go.Box(\n",
    "            y=value,\n",
    "            name = nameOfFeature,\n",
    "            marker = dict(\n",
    "                color = 'rgb(0, 128, 128)',\n",
    "            )\n",
    "        )\n",
    "        return trace\n",
    "\n",
    "    def PlotResult(self,regs,results):\n",
    "        \n",
    "        data = []\n",
    "\n",
    "        for i in range(len(regs)):\n",
    "            data.append(self.__Trace(regs[i],results[i]))\n",
    "\n",
    "\n",
    "        py.iplot(data)"
   ]
  },
  {
   "cell_type": "markdown",
   "metadata": {},
   "source": [
    "##### Implementation"
   ]
  },
  {
   "cell_type": "code",
   "execution_count": 223,
   "metadata": {},
   "outputs": [
    {
     "name": "stderr",
     "output_type": "stream",
     "text": [
      "/Users/shwethailango/anaconda/lib/python3.6/site-packages/sklearn/model_selection/_split.py:297: FutureWarning:\n",
      "\n",
      "Setting a random_state has no effect since shuffle is False. This will raise an error in 0.24. You should leave random_state to its default (None), or set shuffle=True.\n",
      "\n",
      "/Users/shwethailango/anaconda/lib/python3.6/site-packages/sklearn/model_selection/_split.py:672: UserWarning:\n",
      "\n",
      "The least populated class in y has only 1 members, which is less than n_splits=10.\n",
      "\n"
     ]
    },
    {
     "name": "stdout",
     "output_type": "stream",
     "text": [
      "LR->\n",
      " RMSE: 18.509850 , MAE: 13.108775 \n"
     ]
    },
    {
     "name": "stderr",
     "output_type": "stream",
     "text": [
      "/Users/shwethailango/anaconda/lib/python3.6/site-packages/sklearn/model_selection/_split.py:297: FutureWarning:\n",
      "\n",
      "Setting a random_state has no effect since shuffle is False. This will raise an error in 0.24. You should leave random_state to its default (None), or set shuffle=True.\n",
      "\n",
      "/Users/shwethailango/anaconda/lib/python3.6/site-packages/sklearn/model_selection/_split.py:672: UserWarning:\n",
      "\n",
      "The least populated class in y has only 1 members, which is less than n_splits=10.\n",
      "\n"
     ]
    },
    {
     "name": "stdout",
     "output_type": "stream",
     "text": [
      "ETR->\n",
      " RMSE: 18.860143 , MAE: 13.361767 \n"
     ]
    },
    {
     "name": "stderr",
     "output_type": "stream",
     "text": [
      "/Users/shwethailango/anaconda/lib/python3.6/site-packages/sklearn/model_selection/_split.py:297: FutureWarning:\n",
      "\n",
      "Setting a random_state has no effect since shuffle is False. This will raise an error in 0.24. You should leave random_state to its default (None), or set shuffle=True.\n",
      "\n",
      "/Users/shwethailango/anaconda/lib/python3.6/site-packages/sklearn/model_selection/_split.py:672: UserWarning:\n",
      "\n",
      "The least populated class in y has only 1 members, which is less than n_splits=10.\n",
      "\n"
     ]
    },
    {
     "name": "stdout",
     "output_type": "stream",
     "text": [
      "GBR->\n",
      " RMSE: 18.415498 , MAE: 12.817938 \n"
     ]
    },
    {
     "name": "stderr",
     "output_type": "stream",
     "text": [
      "/Users/shwethailango/anaconda/lib/python3.6/site-packages/sklearn/model_selection/_split.py:297: FutureWarning:\n",
      "\n",
      "Setting a random_state has no effect since shuffle is False. This will raise an error in 0.24. You should leave random_state to its default (None), or set shuffle=True.\n",
      "\n",
      "/Users/shwethailango/anaconda/lib/python3.6/site-packages/sklearn/model_selection/_split.py:672: UserWarning:\n",
      "\n",
      "The least populated class in y has only 1 members, which is less than n_splits=10.\n",
      "\n"
     ]
    },
    {
     "name": "stdout",
     "output_type": "stream",
     "text": [
      "RFR->\n",
      " RMSE: 18.769329 , MAE: 13.213191 \n"
     ]
    }
   ],
   "source": [
    "models = regressors()\n",
    "names,results = cross_val1(x1_train, y1_train,models)\n"
   ]
  },
  {
   "cell_type": "code",
   "execution_count": 237,
   "metadata": {},
   "outputs": [
    {
     "data": {
      "application/vnd.plotly.v1+json": {
       "config": {
        "linkText": "Export to plot.ly",
        "plotlyServerURL": "https://plot.ly",
        "showLink": false
       },
       "data": [
        {
         "marker": {
          "color": "rgb(0, 128, 128)"
         },
         "name": "LR",
         "type": "box",
         "y": [
          0.9389976244370966,
          0.9391857634381583,
          0.9420753391972642,
          0.9445507102906477,
          0.9456432100877754,
          0.9469719613109366,
          0.9346135073659376,
          0.9509394740176472,
          0.9465486028481677,
          0.9387963732281059
         ]
        },
        {
         "marker": {
          "color": "rgb(0, 128, 128)"
         },
         "name": "ETR",
         "type": "box",
         "y": [
          0.9373039912207086,
          0.9400056853676881,
          0.9427966048635553,
          0.9437185266259356,
          0.9452328469424133,
          0.9460154924493804,
          0.9340011200623713,
          0.9337461071843295,
          0.9468674688762737,
          0.9381583219185553
         ]
        },
        {
         "marker": {
          "color": "rgb(0, 128, 128)"
         },
         "name": "GBR",
         "type": "box",
         "y": [
          0.9416409965903481,
          0.9432306188258903,
          0.9450290992897062,
          0.9474052033998899,
          0.9479082177056278,
          0.9442109530428949,
          0.9379748131575351,
          0.9365691301994605,
          0.9494283885549542,
          0.9424668045315826
         ]
        },
        {
         "marker": {
          "color": "rgb(0, 128, 128)"
         },
         "name": "RFR",
         "type": "box",
         "y": [
          0.9369128928429553,
          0.9402533886713373,
          0.9436985127740902,
          0.9443912652618569,
          0.9457446668002301,
          0.9469082116183574,
          0.935453014771817,
          0.9319888328849385,
          0.9484158136589843,
          0.939684680835591
         ]
        }
       ],
       "layout": {
        "template": {
         "data": {
          "bar": [
           {
            "error_x": {
             "color": "#2a3f5f"
            },
            "error_y": {
             "color": "#2a3f5f"
            },
            "marker": {
             "line": {
              "color": "#E5ECF6",
              "width": 0.5
             }
            },
            "type": "bar"
           }
          ],
          "barpolar": [
           {
            "marker": {
             "line": {
              "color": "#E5ECF6",
              "width": 0.5
             }
            },
            "type": "barpolar"
           }
          ],
          "carpet": [
           {
            "aaxis": {
             "endlinecolor": "#2a3f5f",
             "gridcolor": "white",
             "linecolor": "white",
             "minorgridcolor": "white",
             "startlinecolor": "#2a3f5f"
            },
            "baxis": {
             "endlinecolor": "#2a3f5f",
             "gridcolor": "white",
             "linecolor": "white",
             "minorgridcolor": "white",
             "startlinecolor": "#2a3f5f"
            },
            "type": "carpet"
           }
          ],
          "choropleth": [
           {
            "colorbar": {
             "outlinewidth": 0,
             "ticks": ""
            },
            "type": "choropleth"
           }
          ],
          "contour": [
           {
            "colorbar": {
             "outlinewidth": 0,
             "ticks": ""
            },
            "colorscale": [
             [
              0,
              "#0d0887"
             ],
             [
              0.1111111111111111,
              "#46039f"
             ],
             [
              0.2222222222222222,
              "#7201a8"
             ],
             [
              0.3333333333333333,
              "#9c179e"
             ],
             [
              0.4444444444444444,
              "#bd3786"
             ],
             [
              0.5555555555555556,
              "#d8576b"
             ],
             [
              0.6666666666666666,
              "#ed7953"
             ],
             [
              0.7777777777777778,
              "#fb9f3a"
             ],
             [
              0.8888888888888888,
              "#fdca26"
             ],
             [
              1,
              "#f0f921"
             ]
            ],
            "type": "contour"
           }
          ],
          "contourcarpet": [
           {
            "colorbar": {
             "outlinewidth": 0,
             "ticks": ""
            },
            "type": "contourcarpet"
           }
          ],
          "heatmap": [
           {
            "colorbar": {
             "outlinewidth": 0,
             "ticks": ""
            },
            "colorscale": [
             [
              0,
              "#0d0887"
             ],
             [
              0.1111111111111111,
              "#46039f"
             ],
             [
              0.2222222222222222,
              "#7201a8"
             ],
             [
              0.3333333333333333,
              "#9c179e"
             ],
             [
              0.4444444444444444,
              "#bd3786"
             ],
             [
              0.5555555555555556,
              "#d8576b"
             ],
             [
              0.6666666666666666,
              "#ed7953"
             ],
             [
              0.7777777777777778,
              "#fb9f3a"
             ],
             [
              0.8888888888888888,
              "#fdca26"
             ],
             [
              1,
              "#f0f921"
             ]
            ],
            "type": "heatmap"
           }
          ],
          "heatmapgl": [
           {
            "colorbar": {
             "outlinewidth": 0,
             "ticks": ""
            },
            "colorscale": [
             [
              0,
              "#0d0887"
             ],
             [
              0.1111111111111111,
              "#46039f"
             ],
             [
              0.2222222222222222,
              "#7201a8"
             ],
             [
              0.3333333333333333,
              "#9c179e"
             ],
             [
              0.4444444444444444,
              "#bd3786"
             ],
             [
              0.5555555555555556,
              "#d8576b"
             ],
             [
              0.6666666666666666,
              "#ed7953"
             ],
             [
              0.7777777777777778,
              "#fb9f3a"
             ],
             [
              0.8888888888888888,
              "#fdca26"
             ],
             [
              1,
              "#f0f921"
             ]
            ],
            "type": "heatmapgl"
           }
          ],
          "histogram": [
           {
            "marker": {
             "colorbar": {
              "outlinewidth": 0,
              "ticks": ""
             }
            },
            "type": "histogram"
           }
          ],
          "histogram2d": [
           {
            "colorbar": {
             "outlinewidth": 0,
             "ticks": ""
            },
            "colorscale": [
             [
              0,
              "#0d0887"
             ],
             [
              0.1111111111111111,
              "#46039f"
             ],
             [
              0.2222222222222222,
              "#7201a8"
             ],
             [
              0.3333333333333333,
              "#9c179e"
             ],
             [
              0.4444444444444444,
              "#bd3786"
             ],
             [
              0.5555555555555556,
              "#d8576b"
             ],
             [
              0.6666666666666666,
              "#ed7953"
             ],
             [
              0.7777777777777778,
              "#fb9f3a"
             ],
             [
              0.8888888888888888,
              "#fdca26"
             ],
             [
              1,
              "#f0f921"
             ]
            ],
            "type": "histogram2d"
           }
          ],
          "histogram2dcontour": [
           {
            "colorbar": {
             "outlinewidth": 0,
             "ticks": ""
            },
            "colorscale": [
             [
              0,
              "#0d0887"
             ],
             [
              0.1111111111111111,
              "#46039f"
             ],
             [
              0.2222222222222222,
              "#7201a8"
             ],
             [
              0.3333333333333333,
              "#9c179e"
             ],
             [
              0.4444444444444444,
              "#bd3786"
             ],
             [
              0.5555555555555556,
              "#d8576b"
             ],
             [
              0.6666666666666666,
              "#ed7953"
             ],
             [
              0.7777777777777778,
              "#fb9f3a"
             ],
             [
              0.8888888888888888,
              "#fdca26"
             ],
             [
              1,
              "#f0f921"
             ]
            ],
            "type": "histogram2dcontour"
           }
          ],
          "mesh3d": [
           {
            "colorbar": {
             "outlinewidth": 0,
             "ticks": ""
            },
            "type": "mesh3d"
           }
          ],
          "parcoords": [
           {
            "line": {
             "colorbar": {
              "outlinewidth": 0,
              "ticks": ""
             }
            },
            "type": "parcoords"
           }
          ],
          "pie": [
           {
            "automargin": true,
            "type": "pie"
           }
          ],
          "scatter": [
           {
            "marker": {
             "colorbar": {
              "outlinewidth": 0,
              "ticks": ""
             }
            },
            "type": "scatter"
           }
          ],
          "scatter3d": [
           {
            "line": {
             "colorbar": {
              "outlinewidth": 0,
              "ticks": ""
             }
            },
            "marker": {
             "colorbar": {
              "outlinewidth": 0,
              "ticks": ""
             }
            },
            "type": "scatter3d"
           }
          ],
          "scattercarpet": [
           {
            "marker": {
             "colorbar": {
              "outlinewidth": 0,
              "ticks": ""
             }
            },
            "type": "scattercarpet"
           }
          ],
          "scattergeo": [
           {
            "marker": {
             "colorbar": {
              "outlinewidth": 0,
              "ticks": ""
             }
            },
            "type": "scattergeo"
           }
          ],
          "scattergl": [
           {
            "marker": {
             "colorbar": {
              "outlinewidth": 0,
              "ticks": ""
             }
            },
            "type": "scattergl"
           }
          ],
          "scattermapbox": [
           {
            "marker": {
             "colorbar": {
              "outlinewidth": 0,
              "ticks": ""
             }
            },
            "type": "scattermapbox"
           }
          ],
          "scatterpolar": [
           {
            "marker": {
             "colorbar": {
              "outlinewidth": 0,
              "ticks": ""
             }
            },
            "type": "scatterpolar"
           }
          ],
          "scatterpolargl": [
           {
            "marker": {
             "colorbar": {
              "outlinewidth": 0,
              "ticks": ""
             }
            },
            "type": "scatterpolargl"
           }
          ],
          "scatterternary": [
           {
            "marker": {
             "colorbar": {
              "outlinewidth": 0,
              "ticks": ""
             }
            },
            "type": "scatterternary"
           }
          ],
          "surface": [
           {
            "colorbar": {
             "outlinewidth": 0,
             "ticks": ""
            },
            "colorscale": [
             [
              0,
              "#0d0887"
             ],
             [
              0.1111111111111111,
              "#46039f"
             ],
             [
              0.2222222222222222,
              "#7201a8"
             ],
             [
              0.3333333333333333,
              "#9c179e"
             ],
             [
              0.4444444444444444,
              "#bd3786"
             ],
             [
              0.5555555555555556,
              "#d8576b"
             ],
             [
              0.6666666666666666,
              "#ed7953"
             ],
             [
              0.7777777777777778,
              "#fb9f3a"
             ],
             [
              0.8888888888888888,
              "#fdca26"
             ],
             [
              1,
              "#f0f921"
             ]
            ],
            "type": "surface"
           }
          ],
          "table": [
           {
            "cells": {
             "fill": {
              "color": "#EBF0F8"
             },
             "line": {
              "color": "white"
             }
            },
            "header": {
             "fill": {
              "color": "#C8D4E3"
             },
             "line": {
              "color": "white"
             }
            },
            "type": "table"
           }
          ]
         },
         "layout": {
          "annotationdefaults": {
           "arrowcolor": "#2a3f5f",
           "arrowhead": 0,
           "arrowwidth": 1
          },
          "coloraxis": {
           "colorbar": {
            "outlinewidth": 0,
            "ticks": ""
           }
          },
          "colorscale": {
           "diverging": [
            [
             0,
             "#8e0152"
            ],
            [
             0.1,
             "#c51b7d"
            ],
            [
             0.2,
             "#de77ae"
            ],
            [
             0.3,
             "#f1b6da"
            ],
            [
             0.4,
             "#fde0ef"
            ],
            [
             0.5,
             "#f7f7f7"
            ],
            [
             0.6,
             "#e6f5d0"
            ],
            [
             0.7,
             "#b8e186"
            ],
            [
             0.8,
             "#7fbc41"
            ],
            [
             0.9,
             "#4d9221"
            ],
            [
             1,
             "#276419"
            ]
           ],
           "sequential": [
            [
             0,
             "#0d0887"
            ],
            [
             0.1111111111111111,
             "#46039f"
            ],
            [
             0.2222222222222222,
             "#7201a8"
            ],
            [
             0.3333333333333333,
             "#9c179e"
            ],
            [
             0.4444444444444444,
             "#bd3786"
            ],
            [
             0.5555555555555556,
             "#d8576b"
            ],
            [
             0.6666666666666666,
             "#ed7953"
            ],
            [
             0.7777777777777778,
             "#fb9f3a"
            ],
            [
             0.8888888888888888,
             "#fdca26"
            ],
            [
             1,
             "#f0f921"
            ]
           ],
           "sequentialminus": [
            [
             0,
             "#0d0887"
            ],
            [
             0.1111111111111111,
             "#46039f"
            ],
            [
             0.2222222222222222,
             "#7201a8"
            ],
            [
             0.3333333333333333,
             "#9c179e"
            ],
            [
             0.4444444444444444,
             "#bd3786"
            ],
            [
             0.5555555555555556,
             "#d8576b"
            ],
            [
             0.6666666666666666,
             "#ed7953"
            ],
            [
             0.7777777777777778,
             "#fb9f3a"
            ],
            [
             0.8888888888888888,
             "#fdca26"
            ],
            [
             1,
             "#f0f921"
            ]
           ]
          },
          "colorway": [
           "#636efa",
           "#EF553B",
           "#00cc96",
           "#ab63fa",
           "#FFA15A",
           "#19d3f3",
           "#FF6692",
           "#B6E880",
           "#FF97FF",
           "#FECB52"
          ],
          "font": {
           "color": "#2a3f5f"
          },
          "geo": {
           "bgcolor": "white",
           "lakecolor": "white",
           "landcolor": "#E5ECF6",
           "showlakes": true,
           "showland": true,
           "subunitcolor": "white"
          },
          "hoverlabel": {
           "align": "left"
          },
          "hovermode": "closest",
          "mapbox": {
           "style": "light"
          },
          "paper_bgcolor": "white",
          "plot_bgcolor": "#E5ECF6",
          "polar": {
           "angularaxis": {
            "gridcolor": "white",
            "linecolor": "white",
            "ticks": ""
           },
           "bgcolor": "#E5ECF6",
           "radialaxis": {
            "gridcolor": "white",
            "linecolor": "white",
            "ticks": ""
           }
          },
          "scene": {
           "xaxis": {
            "backgroundcolor": "#E5ECF6",
            "gridcolor": "white",
            "gridwidth": 2,
            "linecolor": "white",
            "showbackground": true,
            "ticks": "",
            "zerolinecolor": "white"
           },
           "yaxis": {
            "backgroundcolor": "#E5ECF6",
            "gridcolor": "white",
            "gridwidth": 2,
            "linecolor": "white",
            "showbackground": true,
            "ticks": "",
            "zerolinecolor": "white"
           },
           "zaxis": {
            "backgroundcolor": "#E5ECF6",
            "gridcolor": "white",
            "gridwidth": 2,
            "linecolor": "white",
            "showbackground": true,
            "ticks": "",
            "zerolinecolor": "white"
           }
          },
          "shapedefaults": {
           "line": {
            "color": "#2a3f5f"
           }
          },
          "ternary": {
           "aaxis": {
            "gridcolor": "white",
            "linecolor": "white",
            "ticks": ""
           },
           "baxis": {
            "gridcolor": "white",
            "linecolor": "white",
            "ticks": ""
           },
           "bgcolor": "#E5ECF6",
           "caxis": {
            "gridcolor": "white",
            "linecolor": "white",
            "ticks": ""
           }
          },
          "title": {
           "x": 0.05
          },
          "xaxis": {
           "automargin": true,
           "gridcolor": "white",
           "linecolor": "white",
           "ticks": "",
           "title": {
            "standoff": 15
           },
           "zerolinecolor": "white",
           "zerolinewidth": 2
          },
          "yaxis": {
           "automargin": true,
           "gridcolor": "white",
           "linecolor": "white",
           "ticks": "",
           "title": {
            "standoff": 15
           },
           "zerolinecolor": "white",
           "zerolinewidth": 2
          }
         }
        }
       }
      },
      "text/html": [
       "<div>\n",
       "        \n",
       "        \n",
       "            <div id=\"06d4fe7b-b82f-439b-9c71-f054a7ff56a4\" class=\"plotly-graph-div\" style=\"height:525px; width:100%;\"></div>\n",
       "            <script type=\"text/javascript\">\n",
       "                require([\"plotly\"], function(Plotly) {\n",
       "                    window.PLOTLYENV=window.PLOTLYENV || {};\n",
       "                    \n",
       "                if (document.getElementById(\"06d4fe7b-b82f-439b-9c71-f054a7ff56a4\")) {\n",
       "                    Plotly.newPlot(\n",
       "                        '06d4fe7b-b82f-439b-9c71-f054a7ff56a4',\n",
       "                        [{\"marker\": {\"color\": \"rgb(0, 128, 128)\"}, \"name\": \"LR\", \"type\": \"box\", \"y\": [0.9389976244370966, 0.9391857634381583, 0.9420753391972642, 0.9445507102906477, 0.9456432100877754, 0.9469719613109366, 0.9346135073659376, 0.9509394740176472, 0.9465486028481677, 0.9387963732281059]}, {\"marker\": {\"color\": \"rgb(0, 128, 128)\"}, \"name\": \"ETR\", \"type\": \"box\", \"y\": [0.9373039912207086, 0.9400056853676881, 0.9427966048635553, 0.9437185266259356, 0.9452328469424133, 0.9460154924493804, 0.9340011200623713, 0.9337461071843295, 0.9468674688762737, 0.9381583219185553]}, {\"marker\": {\"color\": \"rgb(0, 128, 128)\"}, \"name\": \"GBR\", \"type\": \"box\", \"y\": [0.9416409965903481, 0.9432306188258903, 0.9450290992897062, 0.9474052033998899, 0.9479082177056278, 0.9442109530428949, 0.9379748131575351, 0.9365691301994605, 0.9494283885549542, 0.9424668045315826]}, {\"marker\": {\"color\": \"rgb(0, 128, 128)\"}, \"name\": \"RFR\", \"type\": \"box\", \"y\": [0.9369128928429553, 0.9402533886713373, 0.9436985127740902, 0.9443912652618569, 0.9457446668002301, 0.9469082116183574, 0.935453014771817, 0.9319888328849385, 0.9484158136589843, 0.939684680835591]}],\n",
       "                        {\"template\": {\"data\": {\"bar\": [{\"error_x\": {\"color\": \"#2a3f5f\"}, \"error_y\": {\"color\": \"#2a3f5f\"}, \"marker\": {\"line\": {\"color\": \"#E5ECF6\", \"width\": 0.5}}, \"type\": \"bar\"}], \"barpolar\": [{\"marker\": {\"line\": {\"color\": \"#E5ECF6\", \"width\": 0.5}}, \"type\": \"barpolar\"}], \"carpet\": [{\"aaxis\": {\"endlinecolor\": \"#2a3f5f\", \"gridcolor\": \"white\", \"linecolor\": \"white\", \"minorgridcolor\": \"white\", \"startlinecolor\": \"#2a3f5f\"}, \"baxis\": {\"endlinecolor\": \"#2a3f5f\", \"gridcolor\": \"white\", \"linecolor\": \"white\", \"minorgridcolor\": \"white\", \"startlinecolor\": \"#2a3f5f\"}, \"type\": \"carpet\"}], \"choropleth\": [{\"colorbar\": {\"outlinewidth\": 0, \"ticks\": \"\"}, \"type\": \"choropleth\"}], \"contour\": [{\"colorbar\": {\"outlinewidth\": 0, \"ticks\": \"\"}, \"colorscale\": [[0.0, \"#0d0887\"], [0.1111111111111111, \"#46039f\"], [0.2222222222222222, \"#7201a8\"], [0.3333333333333333, \"#9c179e\"], [0.4444444444444444, \"#bd3786\"], [0.5555555555555556, \"#d8576b\"], [0.6666666666666666, \"#ed7953\"], [0.7777777777777778, \"#fb9f3a\"], [0.8888888888888888, \"#fdca26\"], [1.0, \"#f0f921\"]], \"type\": \"contour\"}], \"contourcarpet\": [{\"colorbar\": {\"outlinewidth\": 0, \"ticks\": \"\"}, \"type\": \"contourcarpet\"}], \"heatmap\": [{\"colorbar\": {\"outlinewidth\": 0, \"ticks\": \"\"}, \"colorscale\": [[0.0, \"#0d0887\"], [0.1111111111111111, \"#46039f\"], [0.2222222222222222, \"#7201a8\"], [0.3333333333333333, \"#9c179e\"], [0.4444444444444444, \"#bd3786\"], [0.5555555555555556, \"#d8576b\"], [0.6666666666666666, \"#ed7953\"], [0.7777777777777778, \"#fb9f3a\"], [0.8888888888888888, \"#fdca26\"], [1.0, \"#f0f921\"]], \"type\": \"heatmap\"}], \"heatmapgl\": [{\"colorbar\": {\"outlinewidth\": 0, \"ticks\": \"\"}, \"colorscale\": [[0.0, \"#0d0887\"], [0.1111111111111111, \"#46039f\"], [0.2222222222222222, \"#7201a8\"], [0.3333333333333333, \"#9c179e\"], [0.4444444444444444, \"#bd3786\"], [0.5555555555555556, \"#d8576b\"], [0.6666666666666666, \"#ed7953\"], [0.7777777777777778, \"#fb9f3a\"], [0.8888888888888888, \"#fdca26\"], [1.0, \"#f0f921\"]], \"type\": \"heatmapgl\"}], \"histogram\": [{\"marker\": {\"colorbar\": {\"outlinewidth\": 0, \"ticks\": \"\"}}, \"type\": \"histogram\"}], \"histogram2d\": [{\"colorbar\": {\"outlinewidth\": 0, \"ticks\": \"\"}, \"colorscale\": [[0.0, \"#0d0887\"], [0.1111111111111111, \"#46039f\"], [0.2222222222222222, \"#7201a8\"], [0.3333333333333333, \"#9c179e\"], [0.4444444444444444, \"#bd3786\"], [0.5555555555555556, \"#d8576b\"], [0.6666666666666666, \"#ed7953\"], [0.7777777777777778, \"#fb9f3a\"], [0.8888888888888888, \"#fdca26\"], [1.0, \"#f0f921\"]], \"type\": \"histogram2d\"}], \"histogram2dcontour\": [{\"colorbar\": {\"outlinewidth\": 0, \"ticks\": \"\"}, \"colorscale\": [[0.0, \"#0d0887\"], [0.1111111111111111, \"#46039f\"], [0.2222222222222222, \"#7201a8\"], [0.3333333333333333, \"#9c179e\"], [0.4444444444444444, \"#bd3786\"], [0.5555555555555556, \"#d8576b\"], [0.6666666666666666, \"#ed7953\"], [0.7777777777777778, \"#fb9f3a\"], [0.8888888888888888, \"#fdca26\"], [1.0, \"#f0f921\"]], \"type\": \"histogram2dcontour\"}], \"mesh3d\": [{\"colorbar\": {\"outlinewidth\": 0, \"ticks\": \"\"}, \"type\": \"mesh3d\"}], \"parcoords\": [{\"line\": {\"colorbar\": {\"outlinewidth\": 0, \"ticks\": \"\"}}, \"type\": \"parcoords\"}], \"pie\": [{\"automargin\": true, \"type\": \"pie\"}], \"scatter\": [{\"marker\": {\"colorbar\": {\"outlinewidth\": 0, \"ticks\": \"\"}}, \"type\": \"scatter\"}], \"scatter3d\": [{\"line\": {\"colorbar\": {\"outlinewidth\": 0, \"ticks\": \"\"}}, \"marker\": {\"colorbar\": {\"outlinewidth\": 0, \"ticks\": \"\"}}, \"type\": \"scatter3d\"}], \"scattercarpet\": [{\"marker\": {\"colorbar\": {\"outlinewidth\": 0, \"ticks\": \"\"}}, \"type\": \"scattercarpet\"}], \"scattergeo\": [{\"marker\": {\"colorbar\": {\"outlinewidth\": 0, \"ticks\": \"\"}}, \"type\": \"scattergeo\"}], \"scattergl\": [{\"marker\": {\"colorbar\": {\"outlinewidth\": 0, \"ticks\": \"\"}}, \"type\": \"scattergl\"}], \"scattermapbox\": [{\"marker\": {\"colorbar\": {\"outlinewidth\": 0, \"ticks\": \"\"}}, \"type\": \"scattermapbox\"}], \"scatterpolar\": [{\"marker\": {\"colorbar\": {\"outlinewidth\": 0, \"ticks\": \"\"}}, \"type\": \"scatterpolar\"}], \"scatterpolargl\": [{\"marker\": {\"colorbar\": {\"outlinewidth\": 0, \"ticks\": \"\"}}, \"type\": \"scatterpolargl\"}], \"scatterternary\": [{\"marker\": {\"colorbar\": {\"outlinewidth\": 0, \"ticks\": \"\"}}, \"type\": \"scatterternary\"}], \"surface\": [{\"colorbar\": {\"outlinewidth\": 0, \"ticks\": \"\"}, \"colorscale\": [[0.0, \"#0d0887\"], [0.1111111111111111, \"#46039f\"], [0.2222222222222222, \"#7201a8\"], [0.3333333333333333, \"#9c179e\"], [0.4444444444444444, \"#bd3786\"], [0.5555555555555556, \"#d8576b\"], [0.6666666666666666, \"#ed7953\"], [0.7777777777777778, \"#fb9f3a\"], [0.8888888888888888, \"#fdca26\"], [1.0, \"#f0f921\"]], \"type\": \"surface\"}], \"table\": [{\"cells\": {\"fill\": {\"color\": \"#EBF0F8\"}, \"line\": {\"color\": \"white\"}}, \"header\": {\"fill\": {\"color\": \"#C8D4E3\"}, \"line\": {\"color\": \"white\"}}, \"type\": \"table\"}]}, \"layout\": {\"annotationdefaults\": {\"arrowcolor\": \"#2a3f5f\", \"arrowhead\": 0, \"arrowwidth\": 1}, \"coloraxis\": {\"colorbar\": {\"outlinewidth\": 0, \"ticks\": \"\"}}, \"colorscale\": {\"diverging\": [[0, \"#8e0152\"], [0.1, \"#c51b7d\"], [0.2, \"#de77ae\"], [0.3, \"#f1b6da\"], [0.4, \"#fde0ef\"], [0.5, \"#f7f7f7\"], [0.6, \"#e6f5d0\"], [0.7, \"#b8e186\"], [0.8, \"#7fbc41\"], [0.9, \"#4d9221\"], [1, \"#276419\"]], \"sequential\": [[0.0, \"#0d0887\"], [0.1111111111111111, \"#46039f\"], [0.2222222222222222, \"#7201a8\"], [0.3333333333333333, \"#9c179e\"], [0.4444444444444444, \"#bd3786\"], [0.5555555555555556, \"#d8576b\"], [0.6666666666666666, \"#ed7953\"], [0.7777777777777778, \"#fb9f3a\"], [0.8888888888888888, \"#fdca26\"], [1.0, \"#f0f921\"]], \"sequentialminus\": [[0.0, \"#0d0887\"], [0.1111111111111111, \"#46039f\"], [0.2222222222222222, \"#7201a8\"], [0.3333333333333333, \"#9c179e\"], [0.4444444444444444, \"#bd3786\"], [0.5555555555555556, \"#d8576b\"], [0.6666666666666666, \"#ed7953\"], [0.7777777777777778, \"#fb9f3a\"], [0.8888888888888888, \"#fdca26\"], [1.0, \"#f0f921\"]]}, \"colorway\": [\"#636efa\", \"#EF553B\", \"#00cc96\", \"#ab63fa\", \"#FFA15A\", \"#19d3f3\", \"#FF6692\", \"#B6E880\", \"#FF97FF\", \"#FECB52\"], \"font\": {\"color\": \"#2a3f5f\"}, \"geo\": {\"bgcolor\": \"white\", \"lakecolor\": \"white\", \"landcolor\": \"#E5ECF6\", \"showlakes\": true, \"showland\": true, \"subunitcolor\": \"white\"}, \"hoverlabel\": {\"align\": \"left\"}, \"hovermode\": \"closest\", \"mapbox\": {\"style\": \"light\"}, \"paper_bgcolor\": \"white\", \"plot_bgcolor\": \"#E5ECF6\", \"polar\": {\"angularaxis\": {\"gridcolor\": \"white\", \"linecolor\": \"white\", \"ticks\": \"\"}, \"bgcolor\": \"#E5ECF6\", \"radialaxis\": {\"gridcolor\": \"white\", \"linecolor\": \"white\", \"ticks\": \"\"}}, \"scene\": {\"xaxis\": {\"backgroundcolor\": \"#E5ECF6\", \"gridcolor\": \"white\", \"gridwidth\": 2, \"linecolor\": \"white\", \"showbackground\": true, \"ticks\": \"\", \"zerolinecolor\": \"white\"}, \"yaxis\": {\"backgroundcolor\": \"#E5ECF6\", \"gridcolor\": \"white\", \"gridwidth\": 2, \"linecolor\": \"white\", \"showbackground\": true, \"ticks\": \"\", \"zerolinecolor\": \"white\"}, \"zaxis\": {\"backgroundcolor\": \"#E5ECF6\", \"gridcolor\": \"white\", \"gridwidth\": 2, \"linecolor\": \"white\", \"showbackground\": true, \"ticks\": \"\", \"zerolinecolor\": \"white\"}}, \"shapedefaults\": {\"line\": {\"color\": \"#2a3f5f\"}}, \"ternary\": {\"aaxis\": {\"gridcolor\": \"white\", \"linecolor\": \"white\", \"ticks\": \"\"}, \"baxis\": {\"gridcolor\": \"white\", \"linecolor\": \"white\", \"ticks\": \"\"}, \"bgcolor\": \"#E5ECF6\", \"caxis\": {\"gridcolor\": \"white\", \"linecolor\": \"white\", \"ticks\": \"\"}}, \"title\": {\"x\": 0.05}, \"xaxis\": {\"automargin\": true, \"gridcolor\": \"white\", \"linecolor\": \"white\", \"ticks\": \"\", \"title\": {\"standoff\": 15}, \"zerolinecolor\": \"white\", \"zerolinewidth\": 2}, \"yaxis\": {\"automargin\": true, \"gridcolor\": \"white\", \"linecolor\": \"white\", \"ticks\": \"\", \"title\": {\"standoff\": 15}, \"zerolinecolor\": \"white\", \"zerolinewidth\": 2}}}},\n",
       "                        {\"responsive\": true}\n",
       "                    ).then(function(){\n",
       "                            \n",
       "var gd = document.getElementById('06d4fe7b-b82f-439b-9c71-f054a7ff56a4');\n",
       "var x = new MutationObserver(function (mutations, observer) {{\n",
       "        var display = window.getComputedStyle(gd).display;\n",
       "        if (!display || display === 'none') {{\n",
       "            console.log([gd, 'removed!']);\n",
       "            Plotly.purge(gd);\n",
       "            observer.disconnect();\n",
       "        }}\n",
       "}});\n",
       "\n",
       "// Listen for the removal of the full notebook cells\n",
       "var notebookContainer = gd.closest('#notebook-container');\n",
       "if (notebookContainer) {{\n",
       "    x.observe(notebookContainer, {childList: true});\n",
       "}}\n",
       "\n",
       "// Listen for the clearing of the current output cell\n",
       "var outputEl = gd.closest('.output');\n",
       "if (outputEl) {{\n",
       "    x.observe(outputEl, {childList: true});\n",
       "}}\n",
       "\n",
       "                        })\n",
       "                };\n",
       "                });\n",
       "            </script>\n",
       "        </div>"
      ]
     },
     "metadata": {},
     "output_type": "display_data"
    }
   ],
   "source": [
    "PlotBoxR().PlotResult(names,results)"
   ]
  },
  {
   "cell_type": "code",
   "execution_count": 143,
   "metadata": {},
   "outputs": [
    {
     "data": {
      "image/png": "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\n",
      "text/plain": [
       "<IPython.core.display.Image object>"
      ]
     },
     "execution_count": 143,
     "metadata": {},
     "output_type": "execute_result"
    }
   ],
   "source": [
    "Image(filename='/Users/shwethailango/Downloads/newplot (2).png') "
   ]
  },
  {
   "cell_type": "markdown",
   "metadata": {},
   "source": [
    "#####  Voting Regressor"
   ]
  },
  {
   "cell_type": "code",
   "execution_count": 145,
   "metadata": {},
   "outputs": [],
   "source": [
    "r1 = GradientBoostingRegressor()\n",
    "r2 = HuberRegressor(epsilon=1.65)\n",
    "r3 = PassiveAggressiveRegressor(random_state=0)"
   ]
  },
  {
   "cell_type": "code",
   "execution_count": 146,
   "metadata": {},
   "outputs": [],
   "source": [
    "vreg = VotingRegressor([('grb', r1), ('hub', r2),('par',r3)])"
   ]
  },
  {
   "cell_type": "code",
   "execution_count": 147,
   "metadata": {},
   "outputs": [
    {
     "name": "stderr",
     "output_type": "stream",
     "text": [
      "/Users/shwethailango/anaconda/lib/python3.6/site-packages/sklearn/linear_model/_huber.py:296: ConvergenceWarning:\n",
      "\n",
      "lbfgs failed to converge (status=1):\n",
      "STOP: TOTAL NO. of ITERATIONS REACHED LIMIT.\n",
      "\n",
      "Increase the number of iterations (max_iter) or scale the data as shown in:\n",
      "    https://scikit-learn.org/stable/modules/preprocessing.html\n",
      "\n"
     ]
    }
   ],
   "source": [
    "yp_f = vreg.fit(x1_train, y1_train).predict(x1_test)"
   ]
  },
  {
   "cell_type": "code",
   "execution_count": 148,
   "metadata": {},
   "outputs": [
    {
     "name": "stdout",
     "output_type": "stream",
     "text": [
      "Mean Abs Error:  14.066285318813717\n",
      "Mean Sqrd Error:  366.30678928530267\n",
      "R2 score:  0.9411515933297818\n"
     ]
    }
   ],
   "source": [
    "print(\"Mean Abs Error: \",metrics.mean_absolute_error(y1_test, yp_f))\n",
    "print(\"Mean Sqrd Error: \",metrics.mean_squared_error(y1_test,yp_f))\n",
    "print(\"R2 score: \",metrics.r2_score(y1_test,yp_f))"
   ]
  },
  {
   "cell_type": "markdown",
   "metadata": {},
   "source": [
    "### Testing Regressor with different intervals of ArrDelMinutes with GradientBoostRegressor\n"
   ]
  },
  {
   "cell_type": "code",
   "execution_count": 8,
   "metadata": {},
   "outputs": [],
   "source": [
    "df1=df1.sort_values(by='ArrDelayMinutes')"
   ]
  },
  {
   "cell_type": "code",
   "execution_count": 74,
   "metadata": {},
   "outputs": [
    {
     "data": {
      "text/html": [
       "<div>\n",
       "<style scoped>\n",
       "    .dataframe tbody tr th:only-of-type {\n",
       "        vertical-align: middle;\n",
       "    }\n",
       "\n",
       "    .dataframe tbody tr th {\n",
       "        vertical-align: top;\n",
       "    }\n",
       "\n",
       "    .dataframe thead th {\n",
       "        text-align: right;\n",
       "    }\n",
       "</style>\n",
       "<table border=\"1\" class=\"dataframe\">\n",
       "  <thead>\n",
       "    <tr style=\"text-align: right;\">\n",
       "      <th></th>\n",
       "      <th>FlightDate</th>\n",
       "      <th>airport</th>\n",
       "      <th>time</th>\n",
       "      <th>DayofMonth</th>\n",
       "      <th>Quarter</th>\n",
       "      <th>Month</th>\n",
       "      <th>Year</th>\n",
       "      <th>OriginAirportID</th>\n",
       "      <th>CRSDepTime</th>\n",
       "      <th>DepTime</th>\n",
       "      <th>...</th>\n",
       "      <th>cloudcover</th>\n",
       "      <th>tempF</th>\n",
       "      <th>WindChillF</th>\n",
       "      <th>precipMM</th>\n",
       "      <th>DewPointF</th>\n",
       "      <th>humidity</th>\n",
       "      <th>windspeedKmph</th>\n",
       "      <th>visibility</th>\n",
       "      <th>WindGustKmph</th>\n",
       "      <th>winddirDegree</th>\n",
       "    </tr>\n",
       "  </thead>\n",
       "  <tbody>\n",
       "    <tr>\n",
       "      <th>528543</th>\n",
       "      <td>2017-11-16</td>\n",
       "      <td>JFK</td>\n",
       "      <td>1700</td>\n",
       "      <td>16</td>\n",
       "      <td>4</td>\n",
       "      <td>11</td>\n",
       "      <td>2017</td>\n",
       "      <td>12478</td>\n",
       "      <td>1630</td>\n",
       "      <td>1626.0</td>\n",
       "      <td>...</td>\n",
       "      <td>7</td>\n",
       "      <td>49</td>\n",
       "      <td>43</td>\n",
       "      <td>0.0</td>\n",
       "      <td>41</td>\n",
       "      <td>73</td>\n",
       "      <td>31</td>\n",
       "      <td>10</td>\n",
       "      <td>41</td>\n",
       "      <td>273</td>\n",
       "    </tr>\n",
       "    <tr>\n",
       "      <th>530650</th>\n",
       "      <td>2017-11-16</td>\n",
       "      <td>DFW</td>\n",
       "      <td>1100</td>\n",
       "      <td>16</td>\n",
       "      <td>4</td>\n",
       "      <td>11</td>\n",
       "      <td>2017</td>\n",
       "      <td>11298</td>\n",
       "      <td>1050</td>\n",
       "      <td>1121.0</td>\n",
       "      <td>...</td>\n",
       "      <td>100</td>\n",
       "      <td>62</td>\n",
       "      <td>62</td>\n",
       "      <td>0.0</td>\n",
       "      <td>58</td>\n",
       "      <td>86</td>\n",
       "      <td>10</td>\n",
       "      <td>8</td>\n",
       "      <td>13</td>\n",
       "      <td>75</td>\n",
       "    </tr>\n",
       "    <tr>\n",
       "      <th>530487</th>\n",
       "      <td>2017-11-05</td>\n",
       "      <td>MIA</td>\n",
       "      <td>2100</td>\n",
       "      <td>5</td>\n",
       "      <td>4</td>\n",
       "      <td>11</td>\n",
       "      <td>2017</td>\n",
       "      <td>13303</td>\n",
       "      <td>2120</td>\n",
       "      <td>2118.0</td>\n",
       "      <td>...</td>\n",
       "      <td>36</td>\n",
       "      <td>77</td>\n",
       "      <td>77</td>\n",
       "      <td>0.0</td>\n",
       "      <td>69</td>\n",
       "      <td>77</td>\n",
       "      <td>8</td>\n",
       "      <td>10</td>\n",
       "      <td>10</td>\n",
       "      <td>154</td>\n",
       "    </tr>\n",
       "    <tr>\n",
       "      <th>530346</th>\n",
       "      <td>2017-11-14</td>\n",
       "      <td>CLT</td>\n",
       "      <td>1800</td>\n",
       "      <td>14</td>\n",
       "      <td>4</td>\n",
       "      <td>11</td>\n",
       "      <td>2017</td>\n",
       "      <td>11057</td>\n",
       "      <td>1809</td>\n",
       "      <td>1805.0</td>\n",
       "      <td>...</td>\n",
       "      <td>31</td>\n",
       "      <td>49</td>\n",
       "      <td>47</td>\n",
       "      <td>0.0</td>\n",
       "      <td>40</td>\n",
       "      <td>70</td>\n",
       "      <td>8</td>\n",
       "      <td>10</td>\n",
       "      <td>11</td>\n",
       "      <td>41</td>\n",
       "    </tr>\n",
       "    <tr>\n",
       "      <th>530257</th>\n",
       "      <td>2017-11-03</td>\n",
       "      <td>CLT</td>\n",
       "      <td>1800</td>\n",
       "      <td>3</td>\n",
       "      <td>4</td>\n",
       "      <td>11</td>\n",
       "      <td>2017</td>\n",
       "      <td>11057</td>\n",
       "      <td>1825</td>\n",
       "      <td>1819.0</td>\n",
       "      <td>...</td>\n",
       "      <td>0</td>\n",
       "      <td>79</td>\n",
       "      <td>79</td>\n",
       "      <td>0.0</td>\n",
       "      <td>63</td>\n",
       "      <td>59</td>\n",
       "      <td>6</td>\n",
       "      <td>10</td>\n",
       "      <td>8</td>\n",
       "      <td>294</td>\n",
       "    </tr>\n",
       "  </tbody>\n",
       "</table>\n",
       "<p>5 rows × 29 columns</p>\n",
       "</div>"
      ],
      "text/plain": [
       "        FlightDate airport  time  DayofMonth  Quarter  Month  Year  \\\n",
       "528543  2017-11-16     JFK  1700          16        4     11  2017   \n",
       "530650  2017-11-16     DFW  1100          16        4     11  2017   \n",
       "530487  2017-11-05     MIA  2100           5        4     11  2017   \n",
       "530346  2017-11-14     CLT  1800          14        4     11  2017   \n",
       "530257  2017-11-03     CLT  1800           3        4     11  2017   \n",
       "\n",
       "        OriginAirportID  CRSDepTime  DepTime  ...  cloudcover  tempF  \\\n",
       "528543            12478        1630   1626.0  ...           7     49   \n",
       "530650            11298        1050   1121.0  ...         100     62   \n",
       "530487            13303        2120   2118.0  ...          36     77   \n",
       "530346            11057        1809   1805.0  ...          31     49   \n",
       "530257            11057        1825   1819.0  ...           0     79   \n",
       "\n",
       "        WindChillF  precipMM  DewPointF  humidity  windspeedKmph  visibility  \\\n",
       "528543          43       0.0         41        73             31          10   \n",
       "530650          62       0.0         58        86             10           8   \n",
       "530487          77       0.0         69        77              8          10   \n",
       "530346          47       0.0         40        70              8          10   \n",
       "530257          79       0.0         63        59              6          10   \n",
       "\n",
       "        WindGustKmph  winddirDegree  \n",
       "528543            41            273  \n",
       "530650            13             75  \n",
       "530487            10            154  \n",
       "530346            11             41  \n",
       "530257             8            294  \n",
       "\n",
       "[5 rows x 29 columns]"
      ]
     },
     "execution_count": 74,
     "metadata": {},
     "output_type": "execute_result"
    }
   ],
   "source": [
    "df1.head()"
   ]
  },
  {
   "cell_type": "markdown",
   "metadata": {},
   "source": [
    "##### To know about the distribution of DelayMinutes for splitting into various intervals"
   ]
  },
  {
   "cell_type": "code",
   "execution_count": 34,
   "metadata": {},
   "outputs": [],
   "source": [
    "fk=pd.DataFrame(df1.ArrDelayMinutes.value_counts())"
   ]
  },
  {
   "cell_type": "code",
   "execution_count": 44,
   "metadata": {},
   "outputs": [
    {
     "data": {
      "text/plain": [
       "<matplotlib.collections.PathCollection at 0x1a363f7940>"
      ]
     },
     "execution_count": 44,
     "metadata": {},
     "output_type": "execute_result"
    },
    {
     "data": {
      "image/png": "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\n",
      "text/plain": [
       "<Figure size 432x288 with 1 Axes>"
      ]
     },
     "metadata": {
      "needs_background": "light"
     },
     "output_type": "display_data"
    }
   ],
   "source": [
    "plt.scatter(fk.index,fk['ArrDelayMinutes'])\n"
   ]
  },
  {
   "cell_type": "code",
   "execution_count": 72,
   "metadata": {},
   "outputs": [
    {
     "data": {
      "image/png": "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\n",
      "text/plain": [
       "<Figure size 936x936 with 1 Axes>"
      ]
     },
     "metadata": {
      "needs_background": "light"
     },
     "output_type": "display_data"
    }
   ],
   "source": [
    "import seaborn as sns\n",
    "plt.figure(figsize=(13,13))\n",
    "plt.bar(fk.index,fk['ArrDelayMinutes'])\n",
    "plt.show()"
   ]
  },
  {
   "cell_type": "markdown",
   "metadata": {},
   "source": [
    "##### Splitting dataframe according to intervals"
   ]
  },
  {
   "cell_type": "code",
   "execution_count": 79,
   "metadata": {},
   "outputs": [],
   "source": [
    "a1=df1[df1['ArrDelayMinutes'].between(0,175)]\n",
    "a2=df1[df1['ArrDelayMinutes'].between(175,350)]\n",
    "a3=df1[df1['ArrDelayMinutes'].between(350,500)]\n",
    "a4=df1[df1['ArrDelayMinutes'].between(500,1000)]\n",
    "a5=df1[df1['ArrDelayMinutes'].between(1000,1500)]\n",
    "a6=df1[df1['ArrDelayMinutes'].between(1500,2200)]\n",
    "\n",
    "li=[a1,a2,a3,a4,a5,a6]"
   ]
  },
  {
   "cell_type": "markdown",
   "metadata": {},
   "source": [
    "##### Implementing into Regressor and validation "
   ]
  },
  {
   "cell_type": "code",
   "execution_count": 85,
   "metadata": {},
   "outputs": [
    {
     "name": "stdout",
     "output_type": "stream",
     "text": [
      "15 to 175 \n",
      "MAE:  11.169438858414411\n",
      "RMSE:  15.786853074668334\n",
      "R2 score:  0.8122855996451863\n",
      "\n",
      "175 to 350 \n",
      "MAE:  13.593259550655407\n",
      "RMSE:  18.751449588113925\n",
      "R2 score:  0.8225610898196318\n",
      "\n",
      "350 to 500 \n",
      "MAE:  14.018526888284782\n",
      "RMSE:  18.89144886850574\n",
      "R2 score:  0.7939491009911224\n",
      "\n",
      "500 to 1000 \n",
      "MAE:  14.874831845400214\n",
      "RMSE:  20.76761201103422\n",
      "R2 score:  0.9770480555707771\n",
      "\n",
      "1000 to 1495 \n",
      "MAE:  16.692688938958746\n",
      "RMSE:  21.619507246160612\n",
      "R2 score:  0.9703976194465838\n",
      "\n"
      "1505 to 2142 \n",
      "MAE:  190.75960497215158\n",
      "RMSE:  210.47213348180998\n",
      "R2 score:  0.37893050890481383\n"
      "\n"
     ]
    }
   ],
   "source": [
    "for i in li:\n",
    "    #dependent and indepandant set\n",
    "    xx=np.array(i[f_imp])\n",
    "    yy=np.array(i['ArrDelayMinutes'])\n",
    "    \n",
    "    #train model\n",
    "    Yp,Yt=train_model(xx,yy,GradientBoostingRegressor())\n",
    "    \n",
    "    #Performance metrics\n",
    "    m=\"%d to %d\" % (min(i['ArrDelayMinutes']),max(i['ArrDelayMinutes']))\n",
    "    print(m,\"\\r\")\n",
    "    print(\"MAE: \",metrics.mean_absolute_error(Yt, Yp))\n",
    "    print(\"RMSE: \",(metrics.mean_squared_error(Yt,Yp))**0.5)\n",
    "    print(\"R2 score: \",metrics.r2_score(Yt,Yp))\n",
    "    print(\"\\n\")"
   ]
  },
  {
   "cell_type": "code",
   "execution_count": null,
   "metadata": {},
   "outputs": [],
   "source": []
  }
 ],
 "metadata": {
  "kernelspec": {
   "display_name": "Python 3",
   "language": "python",
   "name": "python3"
  },
  "language_info": {
   "codemirror_mode": {
    "name": "ipython",
    "version": 3
   },
   "file_extension": ".py",
   "mimetype": "text/x-python",
   "name": "python",
   "nbconvert_exporter": "python",
   "pygments_lexer": "ipython3",
   "version": "3.6.10"
  }
 },
 "nbformat": 4,
 "nbformat_minor": 4
}
