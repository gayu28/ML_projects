{
 "cells": [
  {
   "cell_type": "code",
   "execution_count": 1,
   "metadata": {},
   "outputs": [],
   "source": [
    "import pandas as pd\n",
    "import numpy as np\n",
    "from sklearn.model_selection import train_test_split\n",
    "from sklearn.linear_model import LogisticRegression\n",
    "import matplotlib.pyplot as plt\n",
    "from sklearn import metrics\n",
    "from sklearn.tree import DecisionTreeClassifier\n",
    "from sklearn.ensemble import GradientBoostingClassifier,ExtraTreesClassifier\n",
    "from imblearn.under_sampling import NearMiss\n",
    "from xgboost import XGBClassifier\n"
   ]
  },
  {
   "cell_type": "code",
   "execution_count": 2,
   "metadata": {},
   "outputs": [],
   "source": [
    "# !pip install -U imbalanced-learn"
   ]
  },
  {
   "cell_type": "code",
   "execution_count": 3,
   "metadata": {},
   "outputs": [],
   "source": [
    "# !pip install xgboost"
   ]
  },
  {
   "cell_type": "code",
   "execution_count": 2,
   "metadata": {},
   "outputs": [],
   "source": [
    "df=pd.read_csv('/Users/shwethailango/Documents/Work/Solarillion/Flight_delay_pred/Data/data_processed/flight_delay_pred.csv')"
   ]
  },
  {
   "cell_type": "code",
   "execution_count": 3,
   "metadata": {
    "scrolled": true
   },
   "outputs": [],
   "source": [
    "df1=df.drop(columns=['FlightDate', 'airport','Unnamed: 0','DayofMonth.1'],axis=1)"
   ]
  },
  {
   "cell_type": "markdown",
   "metadata": {},
   "source": [
    "### Function for training model for classifers"
   ]
  },
  {
   "cell_type": "code",
   "execution_count": 4,
   "metadata": {},
   "outputs": [],
   "source": [
    "def train_model(x,y,model,x_test):\n",
    "    \n",
    "    model.fit(x,y)\n",
    "    ypred=model.predict(x_test)\n",
    "    return ypred\n"
   ]
  },
  {
   "cell_type": "markdown",
   "metadata": {},
   "source": [
    "# Feature Selection\n"
   ]
  },
  {
   "cell_type": "markdown",
   "metadata": {},
   "source": [
    "### Since there are 30 features, we must select best features as independent variables. There are many ways and here we use,\n",
    "1.PCA <br> 2. Univariate Selection <br> 3. Feature Importance using ExtraTreesClassifier\n",
    "\n"
   ]
  },
  {
   "cell_type": "markdown",
   "metadata": {},
   "source": [
    "## 1.PCA  "
   ]
  },
  {
   "cell_type": "code",
   "execution_count": 75,
   "metadata": {},
   "outputs": [],
   "source": [
    "#1. Standardization\n",
    "from sklearn.preprocessing import StandardScaler\n",
    "scaler = StandardScaler()\n",
    "\n",
    "scaler.fit(df1)\n",
    "scaled_data = scaler.fit_transform(df1)#scaled_data:ndarray\n",
    "std_df1=pd.DataFrame(scaled_data)  #std_df1:df\n",
    " "
   ]
  },
  {
   "cell_type": "code",
   "execution_count": 76,
   "metadata": {},
   "outputs": [],
   "source": [
    "#decomposition for _ features\n",
    "from sklearn.decomposition import PCA\n",
    "pca = PCA(n_components=15)\n",
    "\n",
    "pca.fit(std_df1)\n",
    "x_pca=pca.fit_transform(std_df1) #x_pca:ndarray\n",
    "x_df1=pd.DataFrame(x_pca)        #x_df1:df\n"
   ]
  },
  {
   "cell_type": "code",
   "execution_count": 77,
   "metadata": {},
   "outputs": [
    {
     "data": {
      "text/plain": [
       "((1851436, 27), (1851436, 15))"
      ]
     },
     "execution_count": 77,
     "metadata": {},
     "output_type": "execute_result"
    }
   ],
   "source": [
    "std_df1.shape,x_df1.shape"
   ]
  },
  {
   "cell_type": "markdown",
   "metadata": {},
   "source": [
    "### Training model"
   ]
  },
  {
   "cell_type": "code",
   "execution_count": 78,
   "metadata": {},
   "outputs": [],
   "source": [
    "x=np.array(x_df1)\n",
    "y=np.array(df1[['ArrDel15']])\n"
   ]
  },
  {
   "cell_type": "code",
   "execution_count": 79,
   "metadata": {},
   "outputs": [
    {
     "name": "stderr",
     "output_type": "stream",
     "text": [
      "/Users/shwethailango/anaconda/lib/python3.6/site-packages/sklearn/utils/validation.py:73: DataConversionWarning: A column-vector y was passed when a 1d array was expected. Please change the shape of y to (n_samples, ), for example using ravel().\n",
      "  return f(**kwargs)\n"
     ]
    }
   ],
   "source": [
    "ypred1,ytest=train_model(x,y,LogisticRegression())"
   ]
  },
  {
   "cell_type": "markdown",
   "metadata": {},
   "source": [
    "### Validation "
   ]
  },
  {
   "cell_type": "code",
   "execution_count": 80,
   "metadata": {},
   "outputs": [
    {
     "name": "stdout",
     "output_type": "stream",
     "text": [
      "Accuracy: 0.9609246874662424\n",
      "Precision: 0.8875259890752734\n",
      "Recall: 0.9313335262240087\n",
      "confusion matrix \n",
      " [[468002  15093]\n",
      " [  8781 119098]]\n",
      "f1 score: 0.9089022017018354\n",
      "cohen's kappa: 0.8840486552829601\n"
     ]
    }
   ],
   "source": [
    "print(\"Accuracy:\",metrics.accuracy_score(ytest, ypred1))\n",
    "print(\"Precision:\",metrics.precision_score(ytest, ypred1))\n",
    "print(\"Recall:\",metrics.recall_score(ytest, ypred1))\n",
    "print(\"confusion matrix \\n\",metrics.confusion_matrix(ytest,ypred1))\n",
    "print(\"f1 score:\",metrics.f1_score(ytest,ypred1))\n",
    "print(\"cohen's kappa:\",metrics.cohen_kappa_score(ytest,ypred1))\n"
   ]
  },
  {
   "cell_type": "code",
   "execution_count": 81,
   "metadata": {},
   "outputs": [
    {
     "data": {
      "text/plain": [
       "Text(0, 0.5, 'True positive rate')"
      ]
     },
     "execution_count": 81,
     "metadata": {},
     "output_type": "execute_result"
    },
    {
     "data": {
      "image/png": "[encoded data removed]",
      "text/plain": [
       "<Figure size 432x288 with 1 Axes>"
      ]
     },
     "metadata": {
      "needs_background": "light"
     },
     "output_type": "display_data"
    }
   ],
   "source": [
    "import matplotlib.pyplot as plt\n",
    "from sklearn.metrics import roc_curve, roc_auc_score\n",
    "\n",
    "fpr, tpr, thresholds = roc_curve(ytest, ypred1, pos_label=1)\n",
    "auc = roc_auc_score(ytest, ypred1)\n",
    "\n",
    "fig, ax = plt.subplots()\n",
    "ax.plot(fpr, tpr)\n",
    "ax.plot([0, 1], [0, 1], color='navy', linestyle='--', label='random')\n",
    "plt.title(f'AUC: {auc}')\n",
    "ax.set_xlabel('False positive rate')\n",
    "ax.set_ylabel('True positive rate')"
   ]
  },
  {
   "cell_type": "markdown",
   "metadata": {},
   "source": [
    "# 2.Univariate and XGBoost\n",
    "f_classif refers ANOVA test as statistics test"
   ]
  },
  {
   "cell_type": "code",
   "execution_count": 82,
   "metadata": {},
   "outputs": [],
   "source": [
    "from sklearn.feature_selection import SelectKBest\n",
    "from sklearn.feature_selection import f_classif\n"
   ]
  },
  {
   "cell_type": "code",
   "execution_count": 83,
   "metadata": {},
   "outputs": [],
   "source": [
    "x=df1.drop(columns=['ArrDel15'],axis=1)\n",
    "y=df1[['ArrDel15']]\n"
   ]
  },
  {
   "cell_type": "code",
   "execution_count": 84,
   "metadata": {},
   "outputs": [
    {
     "name": "stderr",
     "output_type": "stream",
     "text": [
      "/Users/shwethailango/anaconda/lib/python3.6/site-packages/sklearn/utils/validation.py:73: DataConversionWarning: A column-vector y was passed when a 1d array was expected. Please change the shape of y to (n_samples, ), for example using ravel().\n",
      "  return f(**kwargs)\n"
     ]
    }
   ],
   "source": [
    "model=SelectKBest(score_func=f_classif,k=17)\n",
    "kb_fit=model.fit(x,y)"
   ]
  },
  {
   "cell_type": "code",
   "execution_count": 85,
   "metadata": {},
   "outputs": [],
   "source": [
    "dfscores = pd.DataFrame(kb_fit.scores_)\n",
    "dfcolumns = pd.DataFrame(x.columns)\n",
    "featureScores = pd.concat([dfcolumns,dfscores],axis=1)\n",
    "featureScores.columns = ['Features','Score']\n",
    "featureScores=featureScores.nlargest(17,'Score')\n"
   ]
  },
  {
   "cell_type": "code",
   "execution_count": 86,
   "metadata": {},
   "outputs": [],
   "source": [
    "kbest=featureScores.iloc[:,0].values"
   ]
  },
  {
   "cell_type": "code",
   "execution_count": 90,
   "metadata": {},
   "outputs": [
    {
     "data": {
      "text/plain": [
       "array(['DepDel15', 'ArrDelayMinutes', 'DepDelayMinutes', 'DepTime',\n",
       "       'CRSDepTime', 'time', 'CRSArrTime', 'weatherCode', 'precipMM',\n",
       "       'windspeedKmph', 'WindGustKmph', 'pressure', 'ArrTime',\n",
       "       'DestAirportID', 'DewPointF', 'cloudcover', 'tempF'], dtype=object)"
      ]
     },
     "execution_count": 90,
     "metadata": {},
     "output_type": "execute_result"
    }
   ],
   "source": [
    "kbest"
   ]
  },
  {
   "cell_type": "code",
   "execution_count": 88,
   "metadata": {},
   "outputs": [],
   "source": [
    "X=df1[kbest]"
   ]
  },
  {
   "cell_type": "code",
   "execution_count": 92,
   "metadata": {},
   "outputs": [],
   "source": [
    "X=X.drop(columns=['ArrDelayMinutes','CRSArrTime','ArrTime'],axis=1)\n",
    "y=df1[['ArrDel15']]"
   ]
  },
  {
   "cell_type": "markdown",
   "metadata": {},
   "source": [
    "### training model"
   ]
  },
  {
   "cell_type": "code",
   "execution_count": 93,
   "metadata": {},
   "outputs": [
    {
     "name": "stderr",
     "output_type": "stream",
     "text": [
      "/Users/shwethailango/anaconda/lib/python3.6/site-packages/sklearn/utils/validation.py:73: DataConversionWarning: A column-vector y was passed when a 1d array was expected. Please change the shape of y to (n_samples, ), for example using ravel().\n",
      "  return f(**kwargs)\n"
     ]
    }
   ],
   "source": [
    "ypred2,ytest=train_model(X,y,XGBClassifier())"
   ]
  },
  {
   "cell_type": "markdown",
   "metadata": {},
   "source": [
    "### validation"
   ]
  },
  {
   "cell_type": "code",
   "execution_count": 94,
   "metadata": {},
   "outputs": [
    {
     "name": "stdout",
     "output_type": "stream",
     "text": [
      "Accuracy: 0.9178557516359125\n",
      "Precision: 0.894727215453557\n",
      "Recall: 0.6885493317902079\n",
      "confusion matrix \n",
      " [[472735  10360]\n",
      " [ 39828  88051]]\n",
      "f1 score: 0.7782137964558751\n",
      "cohen's kappa: 0.7288519681923411\n"
     ]
    }
   ],
   "source": [
    "print(\"Accuracy:\",metrics.accuracy_score(ytest, ypred2))\n",
    "print(\"Precision:\",metrics.precision_score(ytest, ypred2))\n",
    "print(\"Recall:\",metrics.recall_score(ytest, ypred2))\n",
    "print(\"confusion matrix \\n\",metrics.confusion_matrix(ytest,ypred2))\n",
    "print(\"f1 score:\",metrics.f1_score(ytest,ypred2))\n",
    "print(\"cohen's kappa:\",metrics.cohen_kappa_score(ytest,ypred2))"
   ]
  },
  {
   "cell_type": "markdown",
   "metadata": {},
   "source": [
    "# 3.Feature Importance using ExtraTreesClassifier"
   ]
  },
  {
   "cell_type": "code",
   "execution_count": 95,
   "metadata": {},
   "outputs": [],
   "source": [
    "x=df1.drop(columns=['ArrDel15'],axis=1)\n",
    "y=df1[['ArrDel15']]\n"
   ]
  },
  {
   "cell_type": "code",
   "execution_count": 96,
   "metadata": {},
   "outputs": [
    {
     "name": "stderr",
     "output_type": "stream",
     "text": [
      "/Users/shwethailango/anaconda/lib/python3.6/site-packages/ipykernel_launcher.py:4: DataConversionWarning: A column-vector y was passed when a 1d array was expected. Please change the shape of y to (n_samples,), for example using ravel().\n",
      "  after removing the cwd from sys.path.\n"
     ]
    },
    {
     "data": {
      "text/plain": [
       "ExtraTreesClassifier()"
      ]
     },
     "execution_count": 96,
     "metadata": {},
     "output_type": "execute_result"
    }
   ],
   "source": [
    "from sklearn.ensemble import ExtraTreesClassifier\n",
    "import matplotlib.pyplot as plt\n",
    "model = ExtraTreesClassifier()\n",
    "model.fit(x,y)"
   ]
  },
  {
   "cell_type": "code",
   "execution_count": 97,
   "metadata": {},
   "outputs": [
    {
     "name": "stdout",
     "output_type": "stream",
     "text": [
      "[0.00827238 0.00587469 0.00307327 0.00492839 0.00247641 0.00540377\n",
      " 0.01061988 0.01482564 0.08666086 0.38484705 0.00782282 0.02073021\n",
      " 0.02562829 0.35342601 0.00616499 0.00611142 0.00521277 0.00585751\n",
      " 0.00587019 0.00358516 0.005829   0.0059021  0.00597183 0.00282543\n",
      " 0.00602912 0.00605079]\n"
     ]
    }
   ],
   "source": [
    "print(model.feature_importances_)"
   ]
  },
  {
   "cell_type": "code",
   "execution_count": 99,
   "metadata": {},
   "outputs": [
    {
     "data": {
      "image/png": "[encoded data removed]",
      "text/plain": [
       "<Figure size 432x288 with 1 Axes>"
      ]
     },
     "metadata": {
      "needs_background": "light"
     },
     "output_type": "display_data"
    }
   ],
   "source": [
    "feat_importances = pd.DataFrame(model.feature_importances_, index=x.columns,columns=['score'])\n",
    "feat_importances.nlargest(23,'score').plot(kind='barh')\n",
    "plt.show()"
   ]
  },
  {
   "cell_type": "code",
   "execution_count": 100,
   "metadata": {},
   "outputs": [],
   "source": [
    "f_imp=feat_importances.sort_values(by='score',ascending=False).iloc[0:19,:].index"
   ]
  },
  {
   "cell_type": "code",
   "execution_count": 5,
   "metadata": {},
   "outputs": [],
   "source": [
    "f_imp=['DepDelayMinutes', 'DepTime', 'CRSDepTime', 'time', 'DestAirportID', 'OriginAirportID','DayofMonth','Quarter','Month'\n",
    "       ,'weatherCode', 'pressure', 'winddirDegree', 'WindGustKmph',\n",
    "       'windspeedKmph', 'WindChillF', 'DewPointF', 'humidity','tempF']"
   ]
  },
  {
   "cell_type": "code",
   "execution_count": 6,
   "metadata": {},
   "outputs": [],
   "source": [
    "x=np.array(df1[f_imp])\n",
    "y=np.array(df1['ArrDel15'])"
   ]
  },
  {
   "cell_type": "markdown",
   "metadata": {},
   "source": [
    "# SAMPLING IMBALANCED DATA"
   ]
  },
  {
   "cell_type": "code",
   "execution_count": 36,
   "metadata": {},
   "outputs": [
    {
     "data": {
      "text/plain": [
       "0.0    1463378\n",
       "1.0     388058\n",
       "Name: ArrDel15, dtype: int64"
      ]
     },
     "execution_count": 36,
     "metadata": {},
     "output_type": "execute_result"
    }
   ],
   "source": [
    "df1['ArrDel15'].value_counts()"
   ]
  },
  {
   "cell_type": "code",
   "execution_count": 37,
   "metadata": {},
   "outputs": [
    {
     "data": {
      "text/plain": [
       "Text(0, 0.5, 'Frequency')"
      ]
     },
     "execution_count": 37,
     "metadata": {},
     "output_type": "execute_result"
    },
    {
     "data": {
      "image/png": "[encoded data removed]",
      "text/plain": [
       "<Figure size 432x288 with 1 Axes>"
      ]
     },
     "metadata": {
      "needs_background": "light"
     },
     "output_type": "display_data"
    }
   ],
   "source": [
    "count_classes = pd.value_counts(df1['ArrDel15'], sort = True)\n",
    "count_classes.plot(kind = 'bar', rot=0)\n",
    "plt.xlabel(\"Class\")\n",
    "plt.ylabel(\"Frequency\")\n"
   ]
  },
  {
   "cell_type": "markdown",
   "metadata": {},
   "source": [
    "## Techniques to sample unbalanced data, \n",
    "1.UnderSampling(NearMiss)<br>\n",
    "2.Oversampling(ADASYN)<br>\n",
    "3.Combine sampling(SMOTETomek)<br>\n",
    "4.AdaBoost<br>\n",
    "5.Bagging<br>"
   ]
  },
  {
   "cell_type": "code",
   "execution_count": 8,
   "metadata": {},
   "outputs": [],
   "source": [
    "x_train, x_test, y_train, y_test = train_test_split( x, y, test_size=0.20, random_state=42)\n"
   ]
  },
  {
   "cell_type": "markdown",
   "metadata": {},
   "source": [
    "## 1.Under sampling"
   ]
  },
  {
   "cell_type": "code",
   "execution_count": 9,
   "metadata": {},
   "outputs": [],
   "source": [
    "from imblearn.under_sampling import RandomUnderSampler\n",
    "rus = RandomUnderSampler(random_state=0)\n",
    "x_us, y_us = rus.fit_resample(x_train, y_train) # only training set is sampled"
   ]
  },
  {
   "cell_type": "code",
   "execution_count": 41,
   "metadata": {},
   "outputs": [
    {
     "data": {
      "text/plain": [
       "Text(0, 0.5, 'Frequency')"
      ]
     },
     "execution_count": 41,
     "metadata": {},
     "output_type": "execute_result"
    },
    {
     "data": {
      "image/png": "[encoded data removed]",
      "text/plain": [
       "<Figure size 432x288 with 1 Axes>"
      ]
     },
     "metadata": {
      "needs_background": "light"
     },
     "output_type": "display_data"
    }
   ],
   "source": [
    "count_classes = pd.value_counts(y_us, sort = True)\n",
    "\n",
    "count_classes.plot(kind = 'bar', rot=0)\n",
    "\n",
    "plt.xlabel(\"Class\")\n",
    "\n",
    "plt.ylabel(\"Frequency\")\n"
   ]
  },
  {
   "cell_type": "markdown",
   "metadata": {},
   "source": [
    "## 2.Combined sampling"
   ]
  },
  {
   "cell_type": "code",
   "execution_count": 128,
   "metadata": {},
   "outputs": [],
   "source": [
    "from imblearn.combine import SMOTETomek\n",
    "smk = SMOTETomek(random_state=42)\n",
    "x_os,y_os=smk.fit_sample(x_train,y_train)"
   ]
  },
  {
   "cell_type": "code",
   "execution_count": 119,
   "metadata": {},
   "outputs": [
    {
     "data": {
      "text/plain": [
       "Text(0, 0.5, 'Frequency')"
      ]
     },
     "execution_count": 119,
     "metadata": {},
     "output_type": "execute_result"
    },
    {
     "data": {
      "image/png": "[encoded data removed]",
      "text/plain": [
       "<Figure size 432x288 with 1 Axes>"
      ]
     },
     "metadata": {
      "needs_background": "light"
     },
     "output_type": "display_data"
    }
   ],
   "source": [
    "count_classes = pd.value_counts(y_os, sort = True)\n",
    "\n",
    "count_classes.plot(kind = 'bar', rot=0)\n",
    "\n",
    "plt.xlabel(\"Class\")\n",
    "\n",
    "plt.ylabel(\"Frequency\")\n"
   ]
  },
  {
   "cell_type": "markdown",
   "metadata": {},
   "source": [
    "## 3.Over Sampling"
   ]
  },
  {
   "cell_type": "code",
   "execution_count": 141,
   "metadata": {},
   "outputs": [],
   "source": [
    "from imblearn.over_sampling import ADASYN\n",
    "\n",
    "ada = ADASYN(random_state=42)\n",
    "x_as, y_as = ada.fit_resample(x_train, y_train)"
   ]
  },
  {
   "cell_type": "code",
   "execution_count": 120,
   "metadata": {},
   "outputs": [
    {
     "data": {
      "text/plain": [
       "Text(0, 0.5, 'Frequency')"
      ]
     },
     "execution_count": 120,
     "metadata": {},
     "output_type": "execute_result"
    },
    {
     "data": {
      "image/png": "[encoded data removed]",
      "text/plain": [
       "<Figure size 432x288 with 1 Axes>"
      ]
     },
     "metadata": {
      "needs_background": "light"
     },
     "output_type": "display_data"
    }
   ],
   "source": [
    "count_classes = pd.value_counts(y_as, sort = True)\n",
    "\n",
    "count_classes.plot(kind = 'bar', rot=0)\n",
    "\n",
    "plt.xlabel(\"Class\")\n",
    "\n",
    "plt.ylabel(\"Frequency\")\n"
   ]
  },
  {
   "cell_type": "markdown",
   "metadata": {},
   "source": [
    "## Adaboost"
   ]
  },
  {
   "cell_type": "code",
   "execution_count": 112,
   "metadata": {},
   "outputs": [],
   "source": [
    "xtrain,xtest,ytrain,ytest=train_test_split(x,y,random_state=42,test_size=0.2)"
   ]
  },
  {
   "cell_type": "code",
   "execution_count": 113,
   "metadata": {},
   "outputs": [],
   "source": [
    "from sklearn.ensemble import AdaBoostClassifier\n",
    "\n",
    "boost_clf = AdaBoostClassifier()\n",
    "\n",
    "boost_clf.fit(xtrain, ytrain)\n",
    "\n",
    "ypred = boost_clf.predict(xtest)\n",
    "\n"
   ]
  },
  {
   "cell_type": "code",
   "execution_count": 114,
   "metadata": {},
   "outputs": [
    {
     "name": "stdout",
     "output_type": "stream",
     "text": [
      "Accuracy: 0.9161112431404744\n",
      "Precision: 0.888857366954258\n",
      "Recall: 0.685795586228208\n",
      "Confusion matrix\n"
     ]
    },
    {
     "data": {
      "text/plain": [
       "array([[285962,   6660],\n",
       "       [ 24403,  53263]])"
      ]
     },
     "execution_count": 114,
     "metadata": {},
     "output_type": "execute_result"
    }
   ],
   "source": [
    "print(\"Accuracy:\",metrics.accuracy_score(ytest, ypred))\n",
    "print(\"Precision:\",metrics.precision_score(ytest, ypred))\n",
    "print(\"Recall:\",metrics.recall_score(ytest, ypred))\n",
    "print(\"Confusion matrix\")\n",
    "cnf_matrix = metrics.confusion_matrix(ytest, ypred)\n",
    "cnf_matrix"
   ]
  },
  {
   "cell_type": "code",
   "execution_count": 115,
   "metadata": {},
   "outputs": [
    {
     "name": "stdout",
     "output_type": "stream",
     "text": [
      "              precision    recall  f1-score   support\n",
      "\n",
      "         0.0       0.92      0.98      0.95    292622\n",
      "         1.0       0.89      0.69      0.77     77666\n",
      "\n",
      "    accuracy                           0.92    370288\n",
      "   macro avg       0.91      0.83      0.86    370288\n",
      "weighted avg       0.91      0.92      0.91    370288\n",
      "\n"
     ]
    }
   ],
   "source": [
    "print(metrics.classification_report(ytest,ypred))"
   ]
  },
  {
   "cell_type": "markdown",
   "metadata": {},
   "source": [
    "## Bagging"
   ]
  },
  {
   "cell_type": "code",
   "execution_count": 116,
   "metadata": {},
   "outputs": [],
   "source": [
    "x_train,x_test,y_train,y_test=train_test_split(x,y,random_state=42,test_size=0.2)"
   ]
  },
  {
   "cell_type": "code",
   "execution_count": 117,
   "metadata": {},
   "outputs": [],
   "source": [
    "from sklearn.ensemble import BaggingClassifier\n",
    "\n",
    "bagging_clf = BaggingClassifier()\n",
    "\n",
    "bagging_clf.fit(x_train, y_train)\n",
    "y_pred = bagging_clf.predict(x_test)\n",
    "\n"
   ]
  },
  {
   "cell_type": "code",
   "execution_count": 118,
   "metadata": {},
   "outputs": [
    {
     "name": "stdout",
     "output_type": "stream",
     "text": [
      "Accuracy: 0.9116957611372769\n",
      "Precision: 0.8711701003697834\n",
      "Recall: 0.6794736435505884\n",
      "Confusion matrix\n",
      "[[284818   7804]\n",
      " [ 24894  52772]]\n",
      "              precision    recall  f1-score   support\n",
      "\n",
      "         0.0       0.92      0.97      0.95    292622\n",
      "         1.0       0.87      0.68      0.76     77666\n",
      "\n",
      "    accuracy                           0.91    370288\n",
      "   macro avg       0.90      0.83      0.85    370288\n",
      "weighted avg       0.91      0.91      0.91    370288\n",
      "\n"
     ]
    }
   ],
   "source": [
    "print(\"Accuracy:\",metrics.accuracy_score(y_test, y_pred))\n",
    "print(\"Precision:\",metrics.precision_score(y_test, y_pred))\n",
    "print(\"Recall:\",metrics.recall_score(y_test, y_pred))\n",
    "print(\"Confusion matrix\")\n",
    "print(metrics.confusion_matrix(y_test, y_pred))\n",
    "print(metrics.classification_report(y_test, y_pred))"
   ]
  },
  {
   "cell_type": "markdown",
   "metadata": {},
   "source": [
    "## XGBoost (sampled vs unsampled)"
   ]
  },
  {
   "cell_type": "markdown",
   "metadata": {},
   "source": [
    "#### 1.Unsampled"
   ]
  },
  {
   "cell_type": "code",
   "execution_count": 106,
   "metadata": {},
   "outputs": [],
   "source": [
    "x=np.array(df1[f_imp])\n",
    "y=np.array(df1['ArrDel15'])"
   ]
  },
  {
   "cell_type": "code",
   "execution_count": 107,
   "metadata": {},
   "outputs": [],
   "source": [
    "ypred=train_model(x_train,y_train,XGBClassifier(),x_test)"
   ]
  },
  {
   "cell_type": "code",
   "execution_count": 108,
   "metadata": {},
   "outputs": [
    {
     "name": "stdout",
     "output_type": "stream",
     "text": [
      "Accuracy: 0.9193697276807197\n",
      "Precision: 0.8990416827401376\n",
      "Recall: 0.6925374768335693\n",
      "Confusion matrix\n",
      "[[473150   9945]\n",
      " [ 39318  88561]]\n",
      "              precision    recall  f1-score   support\n",
      "\n",
      "         0.0       0.92      0.98      0.95    483095\n",
      "         1.0       0.90      0.69      0.78    127879\n",
      "\n",
      "    accuracy                           0.92    610974\n",
      "   macro avg       0.91      0.84      0.87    610974\n",
      "weighted avg       0.92      0.92      0.92    610974\n",
      "\n"
     ]
    }
   ],
   "source": [
    "print(\"Accuracy:\",metrics.accuracy_score(y_test, ypred))\n",
    "print(\"Precision:\",metrics.precision_score(y_test, ypred))\n",
    "print(\"Recall:\",metrics.recall_score(y_test, ypred))\n",
    "print(\"Confusion matrix\")\n",
    "print(metrics.confusion_matrix(y_test, ypred))\n",
    "print(metrics.classification_report(y_test, ypred))"
   ]
  },
  {
   "cell_type": "markdown",
   "metadata": {},
   "source": [
    "#### 2. Undersampled"
   ]
  },
  {
   "cell_type": "code",
   "execution_count": 127,
   "metadata": {},
   "outputs": [],
   "source": [
    "y_pred=train_model(x_us,y_us,XGBClassifier(),x_test)"
   ]
  },
  {
   "cell_type": "code",
   "execution_count": 45,
   "metadata": {},
   "outputs": [
    {
     "name": "stdout",
     "output_type": "stream",
     "text": [
      "Accuracy: 0.8818635087596001\n",
      "Precision: 0.9220669500073277\n",
      "Recall: 0.8344672086382574\n",
      "Confusion matrix\n",
      "              precision    recall  f1-score   support\n",
      "\n",
      "         0.0       0.85      0.93      0.89    127945\n",
      "         1.0       0.92      0.83      0.88    128174\n",
      "\n",
      "    accuracy                           0.88    256119\n",
      "   macro avg       0.89      0.88      0.88    256119\n",
      "weighted avg       0.89      0.88      0.88    256119\n",
      "\n"
     ]
    }
   ],
   "source": [
    "print(\"Accuracy:\",metrics.accuracy_score(y_test, y_pred))\n",
    "print(\"Precision:\",metrics.precision_score(y_test, y_pred))\n",
    "print(\"Recall:\",metrics.recall_score(y_test, y_pred))\n",
    "print(\"Confusion matrix\")\n",
    "cnf_matrix = metrics.confusion_matrix(y_test, y_pred)\n",
    "print(metrics.classification_report(y_test, y_pred))"
   ]
  },
  {
   "cell_type": "markdown",
   "metadata": {},
   "source": [
    "#### 3.Oversampled"
   ]
  },
  {
   "cell_type": "code",
   "execution_count": 142,
   "metadata": {},
   "outputs": [],
   "source": [
    "y_pred3=train_model(x_as,y_as,XGBClassifier(),x_test)"
   ]
  },
  {
   "cell_type": "code",
   "execution_count": 143,
   "metadata": {},
   "outputs": [
    {
     "name": "stdout",
     "output_type": "stream",
     "text": [
      "Accuracy: 0.9180394719785681\n",
      "Precision: 0.8917294478019704\n",
      "Recall: 0.6934308448999562\n",
      "Confusion matrix\n",
      "[[286083   6539]\n",
      " [ 23810  53856]]\n",
      "              precision    recall  f1-score   support\n",
      "\n",
      "         0.0       0.92      0.98      0.95    292622\n",
      "         1.0       0.89      0.69      0.78     77666\n",
      "\n",
      "    accuracy                           0.92    370288\n",
      "   macro avg       0.91      0.84      0.86    370288\n",
      "weighted avg       0.92      0.92      0.91    370288\n",
      "\n"
     ]
    }
   ],
   "source": [
    "print(\"Accuracy:\",metrics.accuracy_score(y_test, y_pred3))\n",
    "print(\"Precision:\",metrics.precision_score(y_test, y_pred3))\n",
    "print(\"Recall:\",metrics.recall_score(y_test, y_pred3))\n",
    "print(\"Confusion matrix\")\n",
    "print(metrics.confusion_matrix(y_test, y_pred3))\n",
    "print(metrics.classification_report(y_test, y_pred3))"
   ]
  },
  {
   "cell_type": "markdown",
   "metadata": {},
   "source": [
    "#### 4.Combined"
   ]
  },
  {
   "cell_type": "code",
   "execution_count": 129,
   "metadata": {},
   "outputs": [],
   "source": [
    "y_pred4=train_model(x_os,y_os,XGBClassifier(),x_test)"
   ]
  },
  {
   "cell_type": "code",
   "execution_count": 130,
   "metadata": {},
   "outputs": [
    {
     "name": "stdout",
     "output_type": "stream",
     "text": [
      "Accuracy: 0.9183419392472886\n",
      "Precision: 0.8937127488253948\n",
      "Recall: 0.6931089537249246\n",
      "Confusion matrix\n",
      "              precision    recall  f1-score   support\n",
      "\n",
      "         0.0       0.92      0.98      0.95    292622\n",
      "         1.0       0.89      0.69      0.78     77666\n",
      "\n",
      "    accuracy                           0.92    370288\n",
      "   macro avg       0.91      0.84      0.87    370288\n",
      "weighted avg       0.92      0.92      0.91    370288\n",
      "\n"
     ]
    }
   ],
   "source": [
    "print(\"Accuracy:\",metrics.accuracy_score(y_test, y_pred4))\n",
    "print(\"Precision:\",metrics.precision_score(y_test, y_pred4))\n",
    "print(\"Recall:\",metrics.recall_score(y_test, y_pred4))\n",
    "print(\"Confusion matrix\")\n",
    "cnf_matrix = metrics.confusion_matrix(y_test, y_pred4)\n",
    "print(metrics.classification_report(y_test, y_pred4))"
   ]
  },
  {
   "cell_type": "markdown",
   "metadata": {},
   "source": [
    "## Decision Tree (sampled vs unsampled)"
   ]
  },
  {
   "cell_type": "markdown",
   "metadata": {},
   "source": [
    "#### 1. Unsampled"
   ]
  },
  {
   "cell_type": "code",
   "execution_count": 109,
   "metadata": {},
   "outputs": [],
   "source": [
    "x=np.array(df1[f_imp])\n",
    "y=np.array(df1['ArrDel15'])"
   ]
  },
  {
   "cell_type": "code",
   "execution_count": 110,
   "metadata": {},
   "outputs": [],
   "source": [
    "ypred=train_model(x_train,y_train,DecisionTreeClassifier(),x_test)"
   ]
  },
  {
   "cell_type": "code",
   "execution_count": 111,
   "metadata": {},
   "outputs": [
    {
     "name": "stdout",
     "output_type": "stream",
     "text": [
      "Accuracy: 0.8684673979580145\n",
      "Precision: 0.6787471598176265\n",
      "Recall: 0.7054715786016469\n",
      "Confusion matrix\n",
      "[[440396  42699]\n",
      " [ 37664  90215]]\n",
      "              precision    recall  f1-score   support\n",
      "\n",
      "         0.0       0.92      0.91      0.92    483095\n",
      "         1.0       0.68      0.71      0.69    127879\n",
      "\n",
      "    accuracy                           0.87    610974\n",
      "   macro avg       0.80      0.81      0.80    610974\n",
      "weighted avg       0.87      0.87      0.87    610974\n",
      "\n"
     ]
    }
   ],
   "source": [
    "print(\"Accuracy:\",metrics.accuracy_score(y_test, ypred))\n",
    "print(\"Precision:\",metrics.precision_score(y_test, ypred))\n",
    "print(\"Recall:\",metrics.recall_score(y_test, ypred))\n",
    "print(\"Confusion matrix\")\n",
    "print(metrics.confusion_matrix(y_test, ypred))\n",
    "print(metrics.classification_report(y_test, ypred))"
   ]
  },
  {
   "cell_type": "markdown",
   "metadata": {},
   "source": [
    "### 2. Undersampled"
   ]
  },
  {
   "cell_type": "code",
   "execution_count": 17,
   "metadata": {},
   "outputs": [],
   "source": [
    "ypred2=train_model(x_us,y_us,DecisionTreeClassifier(),x_test)"
   ]
  },
  {
   "cell_type": "code",
   "execution_count": 18,
   "metadata": {},
   "outputs": [
    {
     "name": "stdout",
     "output_type": "stream",
     "text": [
      "Accuracy: 0.7915109320312838\n",
      "Precision: 0.5018718148956212\n",
      "Recall: 0.8026420827646589\n",
      "Confusion matrix\n",
      "[[230749  61873]\n",
      " [ 15328  62338]]\n",
      "              precision    recall  f1-score   support\n",
      "\n",
      "         0.0       0.94      0.79      0.86    292622\n",
      "         1.0       0.50      0.80      0.62     77666\n",
      "\n",
      "    accuracy                           0.79    370288\n",
      "   macro avg       0.72      0.80      0.74    370288\n",
      "weighted avg       0.85      0.79      0.81    370288\n",
      "\n"
     ]
    }
   ],
   "source": [
    "print(\"Accuracy:\",metrics.accuracy_score(y_test, ypred2))\n",
    "print(\"Precision:\",metrics.precision_score(y_test, ypred2))\n",
    "print(\"Recall:\",metrics.recall_score(y_test, ypred2))\n",
    "print(\"Confusion matrix\")\n",
    "print(metrics.confusion_matrix(y_test, ypred2))\n",
    "print(metrics.classification_report(y_test, ypred2))"
   ]
  },
  {
   "cell_type": "markdown",
   "metadata": {},
   "source": [
    "### 3.Oversampled"
   ]
  },
  {
   "cell_type": "code",
   "execution_count": 144,
   "metadata": {},
   "outputs": [],
   "source": [
    "ypred3=train_model(x_as,y_as,DecisionTreeClassifier(),x_test)"
   ]
  },
  {
   "cell_type": "code",
   "execution_count": 145,
   "metadata": {},
   "outputs": [
    {
     "name": "stdout",
     "output_type": "stream",
     "text": [
      "Accuracy: 0.8661204251825606\n",
      "Precision: 0.672678321162499\n",
      "Recall: 0.7045167769680426\n",
      "Confusion matrix\n",
      "[[265997  26625]\n",
      " [ 22949  54717]]\n",
      "              precision    recall  f1-score   support\n",
      "\n",
      "         0.0       0.92      0.91      0.91    292622\n",
      "         1.0       0.67      0.70      0.69     77666\n",
      "\n",
      "    accuracy                           0.87    370288\n",
      "   macro avg       0.80      0.81      0.80    370288\n",
      "weighted avg       0.87      0.87      0.87    370288\n",
      "\n"
     ]
    }
   ],
   "source": [
    "print(\"Accuracy:\",metrics.accuracy_score(y_test, ypred3))\n",
    "print(\"Precision:\",metrics.precision_score(y_test, ypred3))\n",
    "print(\"Recall:\",metrics.recall_score(y_test, ypred3))\n",
    "print(\"Confusion matrix\")\n",
    "print(metrics.confusion_matrix(y_test, ypred3))\n",
    "print(metrics.classification_report(y_test, ypred3))"
   ]
  },
  {
   "cell_type": "markdown",
   "metadata": {},
   "source": [
    "### 4.combined"
   ]
  },
  {
   "cell_type": "code",
   "execution_count": 54,
   "metadata": {},
   "outputs": [],
   "source": [
    "ypred4=train_model(x_os,y_os,DecisionTreeClassifier(),x_test)"
   ]
  },
  {
   "cell_type": "code",
   "execution_count": 55,
   "metadata": {},
   "outputs": [
    {
     "name": "stdout",
     "output_type": "stream",
     "text": [
      "Accuracy: 0.9163068504400548\n",
      "Precision: 0.9133600291226793\n",
      "Recall: 0.9198697737171685\n",
      "Confusion matrix\n",
      "[[435681  41650]\n",
      " [ 38248 439075]]\n",
      "              precision    recall  f1-score   support\n",
      "\n",
      "         0.0       0.92      0.91      0.92    477331\n",
      "         1.0       0.91      0.92      0.92    477323\n",
      "\n",
      "    accuracy                           0.92    954654\n",
      "   macro avg       0.92      0.92      0.92    954654\n",
      "weighted avg       0.92      0.92      0.92    954654\n",
      "\n"
     ]
    }
   ],
   "source": [
    "print(\"Accuracy:\",metrics.accuracy_score(y_test, ypred4))\n",
    "print(\"Precision:\",metrics.precision_score(y_test, ypred4))\n",
    "print(\"Recall:\",metrics.recall_score(y_test, ypred4))\n",
    "print(\"Confusion matrix\")\n",
    "print(metrics.confusion_matrix(y_test, ypred4))\n",
    "print(metrics.classification_report(y_test, ypred4))"
   ]
  },
  {
   "cell_type": "markdown",
   "metadata": {},
   "source": [
    "## Extra Trees Classifier"
   ]
  },
  {
   "cell_type": "markdown",
   "metadata": {},
   "source": [
    "#### 1.Undersampled"
   ]
  },
  {
   "cell_type": "code",
   "execution_count": 13,
   "metadata": {},
   "outputs": [],
   "source": [
    "ypred_1=train_model(x_us,y_us,ExtraTreesClassifier(),x_test)"
   ]
  },
  {
   "cell_type": "code",
   "execution_count": 14,
   "metadata": {},
   "outputs": [
    {
     "name": "stdout",
     "output_type": "stream",
     "text": [
      "Accuracy: 0.8785566910080802\n",
      "Precision: 0.6731044121851275\n",
      "Recall: 0.8185048798702135\n",
      "Confusion matrix\n",
      "[[261749  30873]\n",
      " [ 14096  63570]]\n",
      "              precision    recall  f1-score   support\n",
      "\n",
      "         0.0       0.95      0.89      0.92    292622\n",
      "         1.0       0.67      0.82      0.74     77666\n",
      "\n",
      "    accuracy                           0.88    370288\n",
      "   macro avg       0.81      0.86      0.83    370288\n",
      "weighted avg       0.89      0.88      0.88    370288\n",
      "\n"
     ]
    }
   ],
   "source": [
    "print(\"Accuracy:\",metrics.accuracy_score(y_test, ypred_1))\n",
    "print(\"Precision:\",metrics.precision_score(y_test, ypred_1))\n",
    "print(\"Recall:\",metrics.recall_score(y_test, ypred_1))\n",
    "print(\"Confusion matrix\")\n",
    "print(metrics.confusion_matrix(y_test, ypred_1))\n",
    "print(metrics.classification_report(y_test, ypred_1))"
   ]
  },
  {
   "cell_type": "markdown",
   "metadata": {},
   "source": [
    "#### 2.Oversampled"
   ]
  },
  {
   "cell_type": "code",
   "execution_count": 146,
   "metadata": {},
   "outputs": [],
   "source": [
    "ypred_2=train_model(x_as,y_as,ExtraTreesClassifier(),x_test)"
   ]
  },
  {
   "cell_type": "code",
   "execution_count": 147,
   "metadata": {},
   "outputs": [
    {
     "name": "stdout",
     "output_type": "stream",
     "text": [
      "Accuracy: 0.9080742557144709\n",
      "Precision: 0.8133088203610875\n",
      "Recall: 0.8317281693405094\n",
      "Confusion matrix\n",
      "[[279624  12998]\n",
      " [ 21041  56625]]\n",
      "              precision    recall  f1-score   support\n",
      "\n",
      "         0.0       0.93      0.96      0.94    292622\n",
      "         1.0       0.81      0.73      0.77     77666\n",
      "\n",
      "    accuracy                           0.91    370288\n",
      "   macro avg       0.87      0.84      0.86    370288\n",
      "weighted avg       0.91      0.91      0.91    370288\n",
      "\n"
     ]
    }
   ],
   "source": [
    "print(\"Accuracy:\",metrics.accuracy_score(y_test, ypred_2))\n",
    "print(\"Precision:\",metrics.precision_score(y_test, ypred_2))\n",
    "print(\"Recall:\",metrics.recall_score(y_test, ypred_2))\n",
    "print(\"Confusion matrix\")\n",
    "print(metrics.confusion_matrix(y_test, ypred_2))\n",
    "print(metrics.classification_report(y_test, ypred_2))"
   ]
  },
  {
   "cell_type": "markdown",
   "metadata": {},
   "source": [
    "#### 3.combined"
   ]
  },
  {
   "cell_type": "code",
   "execution_count": 135,
   "metadata": {},
   "outputs": [],
   "source": [
    "ypred_3=train_model(x_os,y_os,ExtraTreesClassifier(),x_test)"
   ]
  },
  {
   "cell_type": "code",
   "execution_count": 136,
   "metadata": {},
   "outputs": [
    {
     "name": "stdout",
     "output_type": "stream",
     "text": [
      "Accuracy: 0.9111988506243789\n",
      "Precision: 0.8283477036776351\n",
      "Recall: 0.7273452991012799\n",
      "Confusion matrix\n",
      "[[280916  11706]\n",
      " [ 21176  56490]]\n",
      "              precision    recall  f1-score   support\n",
      "\n",
      "         0.0       0.93      0.96      0.94    292622\n",
      "         1.0       0.83      0.73      0.77     77666\n",
      "\n",
      "    accuracy                           0.91    370288\n",
      "   macro avg       0.88      0.84      0.86    370288\n",
      "weighted avg       0.91      0.91      0.91    370288\n",
      "\n"
     ]
    }
   ],
   "source": [
    "print(\"Accuracy:\",metrics.accuracy_score(ytest, ypred_3))\n",
    "print(\"Precision:\",metrics.precision_score(ytest, ypred_3))\n",
    "print(\"Recall:\",metrics.recall_score(ytest, ypred_3))\n",
    "print(\"Confusion matrix\")\n",
    "print(metrics.confusion_matrix(ytest, ypred_3))\n",
    "print(metrics.classification_report(ytest, ypred_3))"
   ]
  },
  {
   "cell_type": "markdown",
   "metadata": {},
   "source": [
    "## GradientBoostingClassifier"
   ]
  },
  {
   "cell_type": "markdown",
   "metadata": {},
   "source": [
    "#### 1.Undersampled"
   ]
  },
  {
   "cell_type": "code",
   "execution_count": 15,
   "metadata": {},
   "outputs": [],
   "source": [
    "y_pred_1=train_model(x_us,y_us,GradientBoostingClassifier(),x_test)"
   ]
  },
  {
   "cell_type": "code",
   "execution_count": 16,
   "metadata": {},
   "outputs": [
    {
     "name": "stdout",
     "output_type": "stream",
     "text": [
      "Accuracy: 0.8959053493496953\n",
      "Precision: 0.7354955996195567\n",
      "Recall: 0.7865861509540855\n",
      "Confusion matrix\n",
      "[[270652  21970]\n",
      " [ 16575  61091]]\n",
      "              precision    recall  f1-score   support\n",
      "\n",
      "         0.0       0.94      0.92      0.93    292622\n",
      "         1.0       0.74      0.79      0.76     77666\n",
      "\n",
      "    accuracy                           0.90    370288\n",
      "   macro avg       0.84      0.86      0.85    370288\n",
      "weighted avg       0.90      0.90      0.90    370288\n",
      "\n"
     ]
    }
   ],
   "source": [
    "print(\"Accuracy:\",metrics.accuracy_score(y_test,y_pred_1))\n",
    "print(\"Precision:\",metrics.precision_score(y_test, y_pred_1))\n",
    "print(\"Recall:\",metrics.recall_score(y_test, y_pred_1))\n",
    "print(\"Confusion matrix\")\n",
    "print(metrics.confusion_matrix(y_test, y_pred_1))\n",
    "print(metrics.classification_report(y_test, y_pred_1))"
   ]
  },
  {
   "cell_type": "markdown",
   "metadata": {},
   "source": [
    "#### 2.Oversampled"
   ]
  },
  {
   "cell_type": "code",
   "execution_count": 148,
   "metadata": {},
   "outputs": [],
   "source": [
    "y_pred_2=train_model(x_as,y_as,GradientBoostingClassifier(),x_test)"
   ]
  },
  {
   "cell_type": "code",
   "execution_count": 149,
   "metadata": {},
   "outputs": [
    {
     "name": "stdout",
     "output_type": "stream",
     "text": [
      "Accuracy: 0.9005476818044333\n",
      "Precision: 0.7603861161408788\n",
      "Recall: 0.7677877063322432\n",
      "Confusion matrix\n",
      "[[273831  18791]\n",
      " [ 18035  59631]]\n",
      "              precision    recall  f1-score   support\n",
      "\n",
      "         0.0       0.94      0.94      0.94    292622\n",
      "         1.0       0.76      0.77      0.76     77666\n",
      "\n",
      "    accuracy                           0.90    370288\n",
      "   macro avg       0.85      0.85      0.85    370288\n",
      "weighted avg       0.90      0.90      0.90    370288\n",
      "\n"
     ]
    }
   ],
   "source": [
    "print(\"Accuracy:\",metrics.accuracy_score(y_test, y_pred_2))\n",
    "print(\"Precision:\",metrics.precision_score(y_test, y_pred_2))\n",
    "print(\"Recall:\",metrics.recall_score(y_test, y_pred_2))\n",
    "print(\"Confusion matrix\")\n",
    "print(metrics.confusion_matrix(y_test, y_pred_2))\n",
    "print(metrics.classification_report(y_test, y_pred_2))"
   ]
  },
  {
   "cell_type": "markdown",
   "metadata": {},
   "source": [
    "#### 3.combined"
   ]
  },
  {
   "cell_type": "code",
   "execution_count": 139,
   "metadata": {},
   "outputs": [],
   "source": [
    "y_pred_3=train_model(x_os,y_os,GradientBoostingClassifier(),x_test)"
   ]
  },
  {
   "cell_type": "code",
   "execution_count": 140,
   "metadata": {
    "scrolled": true
   },
   "outputs": [
    {
     "name": "stdout",
     "output_type": "stream",
     "text": [
      "Accuracy: 0.910515598669144\n",
      "Precision: 0.8180740275138927\n",
      "Recall: 0.737336801174259\n",
      "Confusion matrix\n",
      "[[279887  12735]\n",
      " [ 20400  57266]]\n",
      "              precision    recall  f1-score   support\n",
      "\n",
      "         0.0       0.93      0.96      0.94    292622\n",
      "         1.0       0.82      0.74      0.78     77666\n",
      "\n",
      "    accuracy                           0.91    370288\n",
      "   macro avg       0.88      0.85      0.86    370288\n",
      "weighted avg       0.91      0.91      0.91    370288\n",
      "\n"
     ]
    }
   ],
   "source": [
    "print(\"Accuracy:\",metrics.accuracy_score(y_test, y_pred_3))\n",
    "print(\"Precision:\",metrics.precision_score(y_test, y_pred_3))\n",
    "print(\"Recall:\",metrics.recall_score(y_test, y_pred_3))\n",
    "print(\"Confusion matrix\")\n",
    "print(metrics.confusion_matrix(y_test, y_pred_3))\n",
    "print(metrics.classification_report(y_test, y_pred_3))"
   ]
  },
  {
   "cell_type": "markdown",
   "metadata": {},
   "source": [
    "#### 4.Unsampled"
   ]
  },
  {
   "cell_type": "code",
   "execution_count": 72,
   "metadata": {},
   "outputs": [],
   "source": [
    "y_pred_4=train_model(x_train,y_train,GradientBoostingClassifier(),x_test)"
   ]
  },
  {
   "cell_type": "code",
   "execution_count": 74,
   "metadata": {},
   "outputs": [
    {
     "name": "stdout",
     "output_type": "stream",
     "text": [
      "Accuracy: 0.9172059694847898\n",
      "Precision: 0.8956733624096485\n",
      "Recall: 0.6841154528890592\n",
      "Confusion matrix\n",
      "[[472905  10190]\n",
      " [ 40395  87484]]\n",
      "              precision    recall  f1-score   support\n",
      "\n",
      "         0.0       0.92      0.98      0.95    483095\n",
      "         1.0       0.90      0.68      0.78    127879\n",
      "\n",
      "    accuracy                           0.92    610974\n",
      "   macro avg       0.91      0.83      0.86    610974\n",
      "weighted avg       0.92      0.92      0.91    610974\n",
      "\n"
     ]
    }
   ],
   "source": [
    "print(\"Accuracy:\",metrics.accuracy_score(ytest, ypred4))\n",
    "print(\"Precision:\",metrics.precision_score(ytest, ypred4))\n",
    "print(\"Recall:\",metrics.recall_score(ytest, ypred4))\n",
    "print(\"Confusion matrix\")\n",
    "print(metrics.confusion_matrix(ytest, ypred4))\n",
    "print(metrics.classification_report(ytest, ypred4))"
   ]
  }
 ],
 "metadata": {
  "kernelspec": {
   "display_name": "Python 3",
   "language": "python",
   "name": "python3"
  },
  "language_info": {
   "codemirror_mode": {
    "name": "ipython",
    "version": 3
   },
   "file_extension": ".py",
   "mimetype": "text/x-python",
   "name": "python",
   "nbconvert_exporter": "python",
   "pygments_lexer": "ipython3",
   "version": "3.6.10"
  }
 },
 "nbformat": 4,
 "nbformat_minor": 4
}
